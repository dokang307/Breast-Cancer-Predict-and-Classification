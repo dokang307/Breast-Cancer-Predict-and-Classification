{
  "cells": [
    {
      "cell_type": "code",
      "execution_count": 1,
      "metadata": {
        "colab": {
          "base_uri": "https://localhost:8080/"
        },
        "id": "Ql4Pp0LvYXdK",
        "outputId": "cd722622-4bd4-40ed-a90f-a8af07f38023",
        "vscode": {
          "languageId": "r"
        }
      },
      "outputs": [],
      "source": [
        "# install.packages(c(\"tidyverse\", \"caret\", \"ggplot2\",\"pROC\", \"e1071\", \"ROCR\", \"data.table\", \"scales\", \"PRROC\" ))\n",
        "# # install.packages(\"DMwR\", repos = \"http://cran.us.r-project.org\")\n",
        "# install.packages(\"kernlab\")\n"
      ]
    },
    {
      "cell_type": "code",
      "execution_count": 2,
      "metadata": {
        "colab": {
          "base_uri": "https://localhost:8080/"
        },
        "id": "JMI_clyRJ6Z-",
        "outputId": "ef3b5809-4bfa-42a8-fce6-cbbaf4f491a8",
        "vscode": {
          "languageId": "r"
        }
      },
      "outputs": [
        {
          "name": "stderr",
          "output_type": "stream",
          "text": [
            "Warning message:\n",
            "\"package 'tidyverse' was built under R version 4.5.1\"\n",
            "Warning message:\n",
            "\"package 'ggplot2' was built under R version 4.5.1\"\n",
            "── \u001b[1mAttaching core tidyverse packages\u001b[22m ──────────────────────── tidyverse 2.0.0 ──\n",
            "\u001b[32m✔\u001b[39m \u001b[34mdplyr    \u001b[39m 1.1.4     \u001b[32m✔\u001b[39m \u001b[34mreadr    \u001b[39m 2.1.5\n",
            "\u001b[32m✔\u001b[39m \u001b[34mforcats  \u001b[39m 1.0.0     \u001b[32m✔\u001b[39m \u001b[34mstringr  \u001b[39m 1.5.1\n",
            "\u001b[32m✔\u001b[39m \u001b[34mggplot2  \u001b[39m 3.5.2     \u001b[32m✔\u001b[39m \u001b[34mtibble   \u001b[39m 3.2.1\n",
            "\u001b[32m✔\u001b[39m \u001b[34mlubridate\u001b[39m 1.9.4     \u001b[32m✔\u001b[39m \u001b[34mtidyr    \u001b[39m 1.3.1\n",
            "\u001b[32m✔\u001b[39m \u001b[34mpurrr    \u001b[39m 1.0.4     \n",
            "── \u001b[1mConflicts\u001b[22m ────────────────────────────────────────── tidyverse_conflicts() ──\n",
            "\u001b[31m✖\u001b[39m \u001b[34mdplyr\u001b[39m::\u001b[32mfilter()\u001b[39m masks \u001b[34mstats\u001b[39m::filter()\n",
            "\u001b[31m✖\u001b[39m \u001b[34mdplyr\u001b[39m::\u001b[32mlag()\u001b[39m    masks \u001b[34mstats\u001b[39m::lag()\n",
            "\u001b[36mℹ\u001b[39m Use the conflicted package (\u001b[3m\u001b[34m<http://conflicted.r-lib.org/>\u001b[39m\u001b[23m) to force all conflicts to become errors\n",
            "Loading required package: lattice\n",
            "\n",
            "\n",
            "Attaching package: 'caret'\n",
            "\n",
            "\n",
            "The following object is masked from 'package:purrr':\n",
            "\n",
            "    lift\n",
            "\n",
            "\n",
            "Type 'citation(\"pROC\")' for a citation.\n",
            "\n",
            "\n",
            "Attaching package: 'pROC'\n",
            "\n",
            "\n",
            "The following objects are masked from 'package:stats':\n",
            "\n",
            "    cov, smooth, var\n",
            "\n",
            "\n",
            "Warning message:\n",
            "\"package 'ROCR' was built under R version 4.5.1\"\n",
            "\n",
            "Attaching package: 'data.table'\n",
            "\n",
            "\n",
            "The following objects are masked from 'package:lubridate':\n",
            "\n",
            "    hour, isoweek, mday, minute, month, quarter, second, wday, week,\n",
            "    yday, year\n",
            "\n",
            "\n",
            "The following objects are masked from 'package:dplyr':\n",
            "\n",
            "    between, first, last\n",
            "\n",
            "\n",
            "The following object is masked from 'package:purrr':\n",
            "\n",
            "    transpose\n",
            "\n",
            "\n",
            "Warning message:\n",
            "\"package 'scales' was built under R version 4.5.1\"\n",
            "\n",
            "Attaching package: 'scales'\n",
            "\n",
            "\n",
            "The following object is masked from 'package:purrr':\n",
            "\n",
            "    discard\n",
            "\n",
            "\n",
            "The following object is masked from 'package:readr':\n",
            "\n",
            "    col_factor\n",
            "\n",
            "\n",
            "Warning message:\n",
            "\"package 'PRROC' was built under R version 4.5.1\"\n",
            "Loading required package: rlang\n",
            "\n",
            "\n",
            "Attaching package: 'rlang'\n",
            "\n",
            "\n",
            "The following object is masked from 'package:data.table':\n",
            "\n",
            "    :=\n",
            "\n",
            "\n",
            "The following objects are masked from 'package:purrr':\n",
            "\n",
            "    %@%, flatten, flatten_chr, flatten_dbl, flatten_int, flatten_lgl,\n",
            "    flatten_raw, invoke, splice\n",
            "\n",
            "\n",
            "\n",
            "Attaching package: 'kernlab'\n",
            "\n",
            "\n",
            "The following object is masked from 'package:scales':\n",
            "\n",
            "    alpha\n",
            "\n",
            "\n",
            "The following object is masked from 'package:purrr':\n",
            "\n",
            "    cross\n",
            "\n",
            "\n",
            "The following object is masked from 'package:ggplot2':\n",
            "\n",
            "    alpha\n",
            "\n",
            "\n"
          ]
        }
      ],
      "source": [
        "# Import thư viện\n",
        "library(tidyverse)\n",
        "library(caret)\n",
        "library(ggplot2)\n",
        "library(pROC)\n",
        "library(e1071)           # Cho SVM\n",
        "library(ROCR)\n",
        "# library(DMwR)            # SMOTE\n",
        "library(data.table)\n",
        "library(scales)\n",
        "library(PRROC)\n",
        "library(kernlab)"
      ]
    },
    {
      "cell_type": "code",
      "execution_count": 3,
      "metadata": {
        "colab": {
          "base_uri": "https://localhost:8080/"
        },
        "id": "WcMubgNyKNM8",
        "outputId": "e81af087-b61e-40ac-e69a-8e5e742e17ec",
        "vscode": {
          "languageId": "r"
        }
      },
      "outputs": [
        {
          "name": "stderr",
          "output_type": "stream",
          "text": [
            "\u001b[1mRows: \u001b[22m\u001b[34m569\u001b[39m \u001b[1mColumns: \u001b[22m\u001b[34m32\u001b[39m\n",
            "\u001b[36m──\u001b[39m \u001b[1mColumn specification\u001b[22m \u001b[36m────────────────────────────────────────────────────────\u001b[39m\n",
            "\u001b[1mDelimiter:\u001b[22m \",\"\n",
            "\u001b[31mchr\u001b[39m  (1): diagnosis\n",
            "\u001b[32mdbl\u001b[39m (31): id, radius_mean, texture_mean, perimeter_mean, area_mean, smoothne...\n",
            "\n",
            "\u001b[36mℹ\u001b[39m Use `spec()` to retrieve the full column specification for this data.\n",
            "\u001b[36mℹ\u001b[39m Specify the column types or set `show_col_types = FALSE` to quiet this message.\n"
          ]
        }
      ],
      "source": [
        "# Đọc dữ liệu\n",
        "df <- read_csv(\"D:/Khang/FPT semester/semester_5/DSR301m/project_assignment/attempt/breast-cancer.csv\")"
      ]
    },
    {
      "cell_type": "code",
      "execution_count": 4,
      "metadata": {
        "colab": {
          "base_uri": "https://localhost:8080/",
          "height": 1000
        },
        "id": "b1he8IhmKQar",
        "outputId": "c822dea5-2414-4daf-c18f-e35417f8cd20",
        "vscode": {
          "languageId": "r"
        }
      },
      "outputs": [
        {
          "data": {
            "text/html": [
              "<table class=\"dataframe\">\n",
              "<caption>A tibble: 6 × 32</caption>\n",
              "<thead>\n",
              "\t<tr><th scope=col>id</th><th scope=col>diagnosis</th><th scope=col>radius_mean</th><th scope=col>texture_mean</th><th scope=col>perimeter_mean</th><th scope=col>area_mean</th><th scope=col>smoothness_mean</th><th scope=col>compactness_mean</th><th scope=col>concavity_mean</th><th scope=col>concave_points_mean</th><th scope=col>⋯</th><th scope=col>radius_worst</th><th scope=col>texture_worst</th><th scope=col>perimeter_worst</th><th scope=col>area_worst</th><th scope=col>smoothness_worst</th><th scope=col>compactness_worst</th><th scope=col>concavity_worst</th><th scope=col>concave_points_worst</th><th scope=col>symmetry_worst</th><th scope=col>fractal_dimension_worst</th></tr>\n",
              "\t<tr><th scope=col>&lt;dbl&gt;</th><th scope=col>&lt;chr&gt;</th><th scope=col>&lt;dbl&gt;</th><th scope=col>&lt;dbl&gt;</th><th scope=col>&lt;dbl&gt;</th><th scope=col>&lt;dbl&gt;</th><th scope=col>&lt;dbl&gt;</th><th scope=col>&lt;dbl&gt;</th><th scope=col>&lt;dbl&gt;</th><th scope=col>&lt;dbl&gt;</th><th scope=col>⋯</th><th scope=col>&lt;dbl&gt;</th><th scope=col>&lt;dbl&gt;</th><th scope=col>&lt;dbl&gt;</th><th scope=col>&lt;dbl&gt;</th><th scope=col>&lt;dbl&gt;</th><th scope=col>&lt;dbl&gt;</th><th scope=col>&lt;dbl&gt;</th><th scope=col>&lt;dbl&gt;</th><th scope=col>&lt;dbl&gt;</th><th scope=col>&lt;dbl&gt;</th></tr>\n",
              "</thead>\n",
              "<tbody>\n",
              "\t<tr><td>  842302</td><td>M</td><td>17.99</td><td>10.38</td><td>122.80</td><td>1001.0</td><td>0.11840</td><td>0.27760</td><td>0.3001</td><td>0.14710</td><td>⋯</td><td>25.38</td><td>17.33</td><td>184.60</td><td>2019.0</td><td>0.1622</td><td>0.6656</td><td>0.7119</td><td>0.2654</td><td>0.4601</td><td>0.11890</td></tr>\n",
              "\t<tr><td>  842517</td><td>M</td><td>20.57</td><td>17.77</td><td>132.90</td><td>1326.0</td><td>0.08474</td><td>0.07864</td><td>0.0869</td><td>0.07017</td><td>⋯</td><td>24.99</td><td>23.41</td><td>158.80</td><td>1956.0</td><td>0.1238</td><td>0.1866</td><td>0.2416</td><td>0.1860</td><td>0.2750</td><td>0.08902</td></tr>\n",
              "\t<tr><td>84300903</td><td>M</td><td>19.69</td><td>21.25</td><td>130.00</td><td>1203.0</td><td>0.10960</td><td>0.15990</td><td>0.1974</td><td>0.12790</td><td>⋯</td><td>23.57</td><td>25.53</td><td>152.50</td><td>1709.0</td><td>0.1444</td><td>0.4245</td><td>0.4504</td><td>0.2430</td><td>0.3613</td><td>0.08758</td></tr>\n",
              "\t<tr><td>84348301</td><td>M</td><td>11.42</td><td>20.38</td><td> 77.58</td><td> 386.1</td><td>0.14250</td><td>0.28390</td><td>0.2414</td><td>0.10520</td><td>⋯</td><td>14.91</td><td>26.50</td><td> 98.87</td><td> 567.7</td><td>0.2098</td><td>0.8663</td><td>0.6869</td><td>0.2575</td><td>0.6638</td><td>0.17300</td></tr>\n",
              "\t<tr><td>84358402</td><td>M</td><td>20.29</td><td>14.34</td><td>135.10</td><td>1297.0</td><td>0.10030</td><td>0.13280</td><td>0.1980</td><td>0.10430</td><td>⋯</td><td>22.54</td><td>16.67</td><td>152.20</td><td>1575.0</td><td>0.1374</td><td>0.2050</td><td>0.4000</td><td>0.1625</td><td>0.2364</td><td>0.07678</td></tr>\n",
              "\t<tr><td>  843786</td><td>M</td><td>12.45</td><td>15.70</td><td> 82.57</td><td> 477.1</td><td>0.12780</td><td>0.17000</td><td>0.1578</td><td>0.08089</td><td>⋯</td><td>15.47</td><td>23.75</td><td>103.40</td><td> 741.6</td><td>0.1791</td><td>0.5249</td><td>0.5355</td><td>0.1741</td><td>0.3985</td><td>0.12440</td></tr>\n",
              "</tbody>\n",
              "</table>\n"
            ],
            "text/latex": [
              "A tibble: 6 × 32\n",
              "\\begin{tabular}{lllllllllllllllllllll}\n",
              " id & diagnosis & radius\\_mean & texture\\_mean & perimeter\\_mean & area\\_mean & smoothness\\_mean & compactness\\_mean & concavity\\_mean & concave\\_points\\_mean & ⋯ & radius\\_worst & texture\\_worst & perimeter\\_worst & area\\_worst & smoothness\\_worst & compactness\\_worst & concavity\\_worst & concave\\_points\\_worst & symmetry\\_worst & fractal\\_dimension\\_worst\\\\\n",
              " <dbl> & <chr> & <dbl> & <dbl> & <dbl> & <dbl> & <dbl> & <dbl> & <dbl> & <dbl> & ⋯ & <dbl> & <dbl> & <dbl> & <dbl> & <dbl> & <dbl> & <dbl> & <dbl> & <dbl> & <dbl>\\\\\n",
              "\\hline\n",
              "\t   842302 & M & 17.99 & 10.38 & 122.80 & 1001.0 & 0.11840 & 0.27760 & 0.3001 & 0.14710 & ⋯ & 25.38 & 17.33 & 184.60 & 2019.0 & 0.1622 & 0.6656 & 0.7119 & 0.2654 & 0.4601 & 0.11890\\\\\n",
              "\t   842517 & M & 20.57 & 17.77 & 132.90 & 1326.0 & 0.08474 & 0.07864 & 0.0869 & 0.07017 & ⋯ & 24.99 & 23.41 & 158.80 & 1956.0 & 0.1238 & 0.1866 & 0.2416 & 0.1860 & 0.2750 & 0.08902\\\\\n",
              "\t 84300903 & M & 19.69 & 21.25 & 130.00 & 1203.0 & 0.10960 & 0.15990 & 0.1974 & 0.12790 & ⋯ & 23.57 & 25.53 & 152.50 & 1709.0 & 0.1444 & 0.4245 & 0.4504 & 0.2430 & 0.3613 & 0.08758\\\\\n",
              "\t 84348301 & M & 11.42 & 20.38 &  77.58 &  386.1 & 0.14250 & 0.28390 & 0.2414 & 0.10520 & ⋯ & 14.91 & 26.50 &  98.87 &  567.7 & 0.2098 & 0.8663 & 0.6869 & 0.2575 & 0.6638 & 0.17300\\\\\n",
              "\t 84358402 & M & 20.29 & 14.34 & 135.10 & 1297.0 & 0.10030 & 0.13280 & 0.1980 & 0.10430 & ⋯ & 22.54 & 16.67 & 152.20 & 1575.0 & 0.1374 & 0.2050 & 0.4000 & 0.1625 & 0.2364 & 0.07678\\\\\n",
              "\t   843786 & M & 12.45 & 15.70 &  82.57 &  477.1 & 0.12780 & 0.17000 & 0.1578 & 0.08089 & ⋯ & 15.47 & 23.75 & 103.40 &  741.6 & 0.1791 & 0.5249 & 0.5355 & 0.1741 & 0.3985 & 0.12440\\\\\n",
              "\\end{tabular}\n"
            ],
            "text/markdown": [
              "\n",
              "A tibble: 6 × 32\n",
              "\n",
              "| id &lt;dbl&gt; | diagnosis &lt;chr&gt; | radius_mean &lt;dbl&gt; | texture_mean &lt;dbl&gt; | perimeter_mean &lt;dbl&gt; | area_mean &lt;dbl&gt; | smoothness_mean &lt;dbl&gt; | compactness_mean &lt;dbl&gt; | concavity_mean &lt;dbl&gt; | concave_points_mean &lt;dbl&gt; | ⋯ ⋯ | radius_worst &lt;dbl&gt; | texture_worst &lt;dbl&gt; | perimeter_worst &lt;dbl&gt; | area_worst &lt;dbl&gt; | smoothness_worst &lt;dbl&gt; | compactness_worst &lt;dbl&gt; | concavity_worst &lt;dbl&gt; | concave_points_worst &lt;dbl&gt; | symmetry_worst &lt;dbl&gt; | fractal_dimension_worst &lt;dbl&gt; |\n",
              "|---|---|---|---|---|---|---|---|---|---|---|---|---|---|---|---|---|---|---|---|---|\n",
              "|   842302 | M | 17.99 | 10.38 | 122.80 | 1001.0 | 0.11840 | 0.27760 | 0.3001 | 0.14710 | ⋯ | 25.38 | 17.33 | 184.60 | 2019.0 | 0.1622 | 0.6656 | 0.7119 | 0.2654 | 0.4601 | 0.11890 |\n",
              "|   842517 | M | 20.57 | 17.77 | 132.90 | 1326.0 | 0.08474 | 0.07864 | 0.0869 | 0.07017 | ⋯ | 24.99 | 23.41 | 158.80 | 1956.0 | 0.1238 | 0.1866 | 0.2416 | 0.1860 | 0.2750 | 0.08902 |\n",
              "| 84300903 | M | 19.69 | 21.25 | 130.00 | 1203.0 | 0.10960 | 0.15990 | 0.1974 | 0.12790 | ⋯ | 23.57 | 25.53 | 152.50 | 1709.0 | 0.1444 | 0.4245 | 0.4504 | 0.2430 | 0.3613 | 0.08758 |\n",
              "| 84348301 | M | 11.42 | 20.38 |  77.58 |  386.1 | 0.14250 | 0.28390 | 0.2414 | 0.10520 | ⋯ | 14.91 | 26.50 |  98.87 |  567.7 | 0.2098 | 0.8663 | 0.6869 | 0.2575 | 0.6638 | 0.17300 |\n",
              "| 84358402 | M | 20.29 | 14.34 | 135.10 | 1297.0 | 0.10030 | 0.13280 | 0.1980 | 0.10430 | ⋯ | 22.54 | 16.67 | 152.20 | 1575.0 | 0.1374 | 0.2050 | 0.4000 | 0.1625 | 0.2364 | 0.07678 |\n",
              "|   843786 | M | 12.45 | 15.70 |  82.57 |  477.1 | 0.12780 | 0.17000 | 0.1578 | 0.08089 | ⋯ | 15.47 | 23.75 | 103.40 |  741.6 | 0.1791 | 0.5249 | 0.5355 | 0.1741 | 0.3985 | 0.12440 |\n",
              "\n"
            ],
            "text/plain": [
              "  id       diagnosis radius_mean texture_mean perimeter_mean area_mean\n",
              "1   842302 M         17.99       10.38        122.80         1001.0   \n",
              "2   842517 M         20.57       17.77        132.90         1326.0   \n",
              "3 84300903 M         19.69       21.25        130.00         1203.0   \n",
              "4 84348301 M         11.42       20.38         77.58          386.1   \n",
              "5 84358402 M         20.29       14.34        135.10         1297.0   \n",
              "6   843786 M         12.45       15.70         82.57          477.1   \n",
              "  smoothness_mean compactness_mean concavity_mean concave_points_mean ⋯\n",
              "1 0.11840         0.27760          0.3001         0.14710             ⋯\n",
              "2 0.08474         0.07864          0.0869         0.07017             ⋯\n",
              "3 0.10960         0.15990          0.1974         0.12790             ⋯\n",
              "4 0.14250         0.28390          0.2414         0.10520             ⋯\n",
              "5 0.10030         0.13280          0.1980         0.10430             ⋯\n",
              "6 0.12780         0.17000          0.1578         0.08089             ⋯\n",
              "  radius_worst texture_worst perimeter_worst area_worst smoothness_worst\n",
              "1 25.38        17.33         184.60          2019.0     0.1622          \n",
              "2 24.99        23.41         158.80          1956.0     0.1238          \n",
              "3 23.57        25.53         152.50          1709.0     0.1444          \n",
              "4 14.91        26.50          98.87           567.7     0.2098          \n",
              "5 22.54        16.67         152.20          1575.0     0.1374          \n",
              "6 15.47        23.75         103.40           741.6     0.1791          \n",
              "  compactness_worst concavity_worst concave_points_worst symmetry_worst\n",
              "1 0.6656            0.7119          0.2654               0.4601        \n",
              "2 0.1866            0.2416          0.1860               0.2750        \n",
              "3 0.4245            0.4504          0.2430               0.3613        \n",
              "4 0.8663            0.6869          0.2575               0.6638        \n",
              "5 0.2050            0.4000          0.1625               0.2364        \n",
              "6 0.5249            0.5355          0.1741               0.3985        \n",
              "  fractal_dimension_worst\n",
              "1 0.11890                \n",
              "2 0.08902                \n",
              "3 0.08758                \n",
              "4 0.17300                \n",
              "5 0.07678                \n",
              "6 0.12440                "
            ]
          },
          "metadata": {},
          "output_type": "display_data"
        },
        {
          "data": {
            "text/plain": [
              "       id             diagnosis          radius_mean      texture_mean  \n",
              " Min.   :     8670   Length:569         Min.   : 6.981   Min.   : 9.71  \n",
              " 1st Qu.:   869218   Class :character   1st Qu.:11.700   1st Qu.:16.17  \n",
              " Median :   906024   Mode  :character   Median :13.370   Median :18.84  \n",
              " Mean   : 30371831                      Mean   :14.127   Mean   :19.29  \n",
              " 3rd Qu.:  8813129                      3rd Qu.:15.780   3rd Qu.:21.80  \n",
              " Max.   :911320502                      Max.   :28.110   Max.   :39.28  \n",
              " perimeter_mean     area_mean      smoothness_mean   compactness_mean \n",
              " Min.   : 43.79   Min.   : 143.5   Min.   :0.05263   Min.   :0.01938  \n",
              " 1st Qu.: 75.17   1st Qu.: 420.3   1st Qu.:0.08637   1st Qu.:0.06492  \n",
              " Median : 86.24   Median : 551.1   Median :0.09587   Median :0.09263  \n",
              " Mean   : 91.97   Mean   : 654.9   Mean   :0.09636   Mean   :0.10434  \n",
              " 3rd Qu.:104.10   3rd Qu.: 782.7   3rd Qu.:0.10530   3rd Qu.:0.13040  \n",
              " Max.   :188.50   Max.   :2501.0   Max.   :0.16340   Max.   :0.34540  \n",
              " concavity_mean    concave_points_mean symmetry_mean    fractal_dimension_mean\n",
              " Min.   :0.00000   Min.   :0.00000     Min.   :0.1060   Min.   :0.04996       \n",
              " 1st Qu.:0.02956   1st Qu.:0.02031     1st Qu.:0.1619   1st Qu.:0.05770       \n",
              " Median :0.06154   Median :0.03350     Median :0.1792   Median :0.06154       \n",
              " Mean   :0.08880   Mean   :0.04892     Mean   :0.1812   Mean   :0.06280       \n",
              " 3rd Qu.:0.13070   3rd Qu.:0.07400     3rd Qu.:0.1957   3rd Qu.:0.06612       \n",
              " Max.   :0.42680   Max.   :0.20120     Max.   :0.3040   Max.   :0.09744       \n",
              "   radius_se        texture_se      perimeter_se       area_se       \n",
              " Min.   :0.1115   Min.   :0.3602   Min.   : 0.757   Min.   :  6.802  \n",
              " 1st Qu.:0.2324   1st Qu.:0.8339   1st Qu.: 1.606   1st Qu.: 17.850  \n",
              " Median :0.3242   Median :1.1080   Median : 2.287   Median : 24.530  \n",
              " Mean   :0.4052   Mean   :1.2169   Mean   : 2.866   Mean   : 40.337  \n",
              " 3rd Qu.:0.4789   3rd Qu.:1.4740   3rd Qu.: 3.357   3rd Qu.: 45.190  \n",
              " Max.   :2.8730   Max.   :4.8850   Max.   :21.980   Max.   :542.200  \n",
              " smoothness_se      compactness_se      concavity_se     concave_points_se \n",
              " Min.   :0.001713   Min.   :0.002252   Min.   :0.00000   Min.   :0.000000  \n",
              " 1st Qu.:0.005169   1st Qu.:0.013080   1st Qu.:0.01509   1st Qu.:0.007638  \n",
              " Median :0.006380   Median :0.020450   Median :0.02589   Median :0.010930  \n",
              " Mean   :0.007041   Mean   :0.025478   Mean   :0.03189   Mean   :0.011796  \n",
              " 3rd Qu.:0.008146   3rd Qu.:0.032450   3rd Qu.:0.04205   3rd Qu.:0.014710  \n",
              " Max.   :0.031130   Max.   :0.135400   Max.   :0.39600   Max.   :0.052790  \n",
              "  symmetry_se       fractal_dimension_se  radius_worst   texture_worst  \n",
              " Min.   :0.007882   Min.   :0.0008948    Min.   : 7.93   Min.   :12.02  \n",
              " 1st Qu.:0.015160   1st Qu.:0.0022480    1st Qu.:13.01   1st Qu.:21.08  \n",
              " Median :0.018730   Median :0.0031870    Median :14.97   Median :25.41  \n",
              " Mean   :0.020542   Mean   :0.0037949    Mean   :16.27   Mean   :25.68  \n",
              " 3rd Qu.:0.023480   3rd Qu.:0.0045580    3rd Qu.:18.79   3rd Qu.:29.72  \n",
              " Max.   :0.078950   Max.   :0.0298400    Max.   :36.04   Max.   :49.54  \n",
              " perimeter_worst    area_worst     smoothness_worst  compactness_worst\n",
              " Min.   : 50.41   Min.   : 185.2   Min.   :0.07117   Min.   :0.02729  \n",
              " 1st Qu.: 84.11   1st Qu.: 515.3   1st Qu.:0.11660   1st Qu.:0.14720  \n",
              " Median : 97.66   Median : 686.5   Median :0.13130   Median :0.21190  \n",
              " Mean   :107.26   Mean   : 880.6   Mean   :0.13237   Mean   :0.25427  \n",
              " 3rd Qu.:125.40   3rd Qu.:1084.0   3rd Qu.:0.14600   3rd Qu.:0.33910  \n",
              " Max.   :251.20   Max.   :4254.0   Max.   :0.22260   Max.   :1.05800  \n",
              " concavity_worst  concave_points_worst symmetry_worst   fractal_dimension_worst\n",
              " Min.   :0.0000   Min.   :0.00000      Min.   :0.1565   Min.   :0.05504        \n",
              " 1st Qu.:0.1145   1st Qu.:0.06493      1st Qu.:0.2504   1st Qu.:0.07146        \n",
              " Median :0.2267   Median :0.09993      Median :0.2822   Median :0.08004        \n",
              " Mean   :0.2722   Mean   :0.11461      Mean   :0.2901   Mean   :0.08395        \n",
              " 3rd Qu.:0.3829   3rd Qu.:0.16140      3rd Qu.:0.3179   3rd Qu.:0.09208        \n",
              " Max.   :1.2520   Max.   :0.29100      Max.   :0.6638   Max.   :0.20750        "
            ]
          },
          "metadata": {},
          "output_type": "display_data"
        },
        {
          "name": "stdout",
          "output_type": "stream",
          "text": [
            "spc_tbl_ [569 × 32] (S3: spec_tbl_df/tbl_df/tbl/data.frame)\n",
            " $ id                     : num [1:569] 842302 842517 84300903 84348301 84358402 ...\n",
            " $ diagnosis              : chr [1:569] \"M\" \"M\" \"M\" \"M\" ...\n",
            " $ radius_mean            : num [1:569] 18 20.6 19.7 11.4 20.3 ...\n",
            " $ texture_mean           : num [1:569] 10.4 17.8 21.2 20.4 14.3 ...\n",
            " $ perimeter_mean         : num [1:569] 122.8 132.9 130 77.6 135.1 ...\n",
            " $ area_mean              : num [1:569] 1001 1326 1203 386 1297 ...\n",
            " $ smoothness_mean        : num [1:569] 0.1184 0.0847 0.1096 0.1425 0.1003 ...\n",
            " $ compactness_mean       : num [1:569] 0.2776 0.0786 0.1599 0.2839 0.1328 ...\n",
            " $ concavity_mean         : num [1:569] 0.3001 0.0869 0.1974 0.2414 0.198 ...\n",
            " $ concave_points_mean    : num [1:569] 0.1471 0.0702 0.1279 0.1052 0.1043 ...\n",
            " $ symmetry_mean          : num [1:569] 0.242 0.181 0.207 0.26 0.181 ...\n",
            " $ fractal_dimension_mean : num [1:569] 0.0787 0.0567 0.06 0.0974 0.0588 ...\n",
            " $ radius_se              : num [1:569] 1.095 0.543 0.746 0.496 0.757 ...\n",
            " $ texture_se             : num [1:569] 0.905 0.734 0.787 1.156 0.781 ...\n",
            " $ perimeter_se           : num [1:569] 8.59 3.4 4.58 3.44 5.44 ...\n",
            " $ area_se                : num [1:569] 153.4 74.1 94 27.2 94.4 ...\n",
            " $ smoothness_se          : num [1:569] 0.0064 0.00522 0.00615 0.00911 0.01149 ...\n",
            " $ compactness_se         : num [1:569] 0.049 0.0131 0.0401 0.0746 0.0246 ...\n",
            " $ concavity_se           : num [1:569] 0.0537 0.0186 0.0383 0.0566 0.0569 ...\n",
            " $ concave_points_se      : num [1:569] 0.0159 0.0134 0.0206 0.0187 0.0188 ...\n",
            " $ symmetry_se            : num [1:569] 0.03 0.0139 0.0225 0.0596 0.0176 ...\n",
            " $ fractal_dimension_se   : num [1:569] 0.00619 0.00353 0.00457 0.00921 0.00511 ...\n",
            " $ radius_worst           : num [1:569] 25.4 25 23.6 14.9 22.5 ...\n",
            " $ texture_worst          : num [1:569] 17.3 23.4 25.5 26.5 16.7 ...\n",
            " $ perimeter_worst        : num [1:569] 184.6 158.8 152.5 98.9 152.2 ...\n",
            " $ area_worst             : num [1:569] 2019 1956 1709 568 1575 ...\n",
            " $ smoothness_worst       : num [1:569] 0.162 0.124 0.144 0.21 0.137 ...\n",
            " $ compactness_worst      : num [1:569] 0.666 0.187 0.424 0.866 0.205 ...\n",
            " $ concavity_worst        : num [1:569] 0.712 0.242 0.45 0.687 0.4 ...\n",
            " $ concave_points_worst   : num [1:569] 0.265 0.186 0.243 0.258 0.163 ...\n",
            " $ symmetry_worst         : num [1:569] 0.46 0.275 0.361 0.664 0.236 ...\n",
            " $ fractal_dimension_worst: num [1:569] 0.1189 0.089 0.0876 0.173 0.0768 ...\n",
            " - attr(*, \"spec\")=\n",
            "  .. cols(\n",
            "  ..   id = \u001b[32mcol_double()\u001b[39m,\n",
            "  ..   diagnosis = \u001b[31mcol_character()\u001b[39m,\n",
            "  ..   radius_mean = \u001b[32mcol_double()\u001b[39m,\n",
            "  ..   texture_mean = \u001b[32mcol_double()\u001b[39m,\n",
            "  ..   perimeter_mean = \u001b[32mcol_double()\u001b[39m,\n",
            "  ..   area_mean = \u001b[32mcol_double()\u001b[39m,\n",
            "  ..   smoothness_mean = \u001b[32mcol_double()\u001b[39m,\n",
            "  ..   compactness_mean = \u001b[32mcol_double()\u001b[39m,\n",
            "  ..   concavity_mean = \u001b[32mcol_double()\u001b[39m,\n",
            "  ..   concave_points_mean = \u001b[32mcol_double()\u001b[39m,\n",
            "  ..   symmetry_mean = \u001b[32mcol_double()\u001b[39m,\n",
            "  ..   fractal_dimension_mean = \u001b[32mcol_double()\u001b[39m,\n",
            "  ..   radius_se = \u001b[32mcol_double()\u001b[39m,\n",
            "  ..   texture_se = \u001b[32mcol_double()\u001b[39m,\n",
            "  ..   perimeter_se = \u001b[32mcol_double()\u001b[39m,\n",
            "  ..   area_se = \u001b[32mcol_double()\u001b[39m,\n",
            "  ..   smoothness_se = \u001b[32mcol_double()\u001b[39m,\n",
            "  ..   compactness_se = \u001b[32mcol_double()\u001b[39m,\n",
            "  ..   concavity_se = \u001b[32mcol_double()\u001b[39m,\n",
            "  ..   concave_points_se = \u001b[32mcol_double()\u001b[39m,\n",
            "  ..   symmetry_se = \u001b[32mcol_double()\u001b[39m,\n",
            "  ..   fractal_dimension_se = \u001b[32mcol_double()\u001b[39m,\n",
            "  ..   radius_worst = \u001b[32mcol_double()\u001b[39m,\n",
            "  ..   texture_worst = \u001b[32mcol_double()\u001b[39m,\n",
            "  ..   perimeter_worst = \u001b[32mcol_double()\u001b[39m,\n",
            "  ..   area_worst = \u001b[32mcol_double()\u001b[39m,\n",
            "  ..   smoothness_worst = \u001b[32mcol_double()\u001b[39m,\n",
            "  ..   compactness_worst = \u001b[32mcol_double()\u001b[39m,\n",
            "  ..   concavity_worst = \u001b[32mcol_double()\u001b[39m,\n",
            "  ..   concave_points_worst = \u001b[32mcol_double()\u001b[39m,\n",
            "  ..   symmetry_worst = \u001b[32mcol_double()\u001b[39m,\n",
            "  ..   fractal_dimension_worst = \u001b[32mcol_double()\u001b[39m\n",
            "  .. )\n",
            " - attr(*, \"problems\")=<externalptr> \n"
          ]
        },
        {
          "data": {
            "text/html": [
              "<style>\n",
              ".dl-inline {width: auto; margin:0; padding: 0}\n",
              ".dl-inline>dt, .dl-inline>dd {float: none; width: auto; display: inline-block}\n",
              ".dl-inline>dt::after {content: \":\\0020\"; padding-right: .5ex}\n",
              ".dl-inline>dt:not(:first-of-type) {padding-left: .5ex}\n",
              "</style><dl class=dl-inline><dt>id</dt><dd>0</dd><dt>diagnosis</dt><dd>0</dd><dt>radius_mean</dt><dd>0</dd><dt>texture_mean</dt><dd>0</dd><dt>perimeter_mean</dt><dd>0</dd><dt>area_mean</dt><dd>0</dd><dt>smoothness_mean</dt><dd>0</dd><dt>compactness_mean</dt><dd>0</dd><dt>concavity_mean</dt><dd>0</dd><dt>concave_points_mean</dt><dd>0</dd><dt>symmetry_mean</dt><dd>0</dd><dt>fractal_dimension_mean</dt><dd>0</dd><dt>radius_se</dt><dd>0</dd><dt>texture_se</dt><dd>0</dd><dt>perimeter_se</dt><dd>0</dd><dt>area_se</dt><dd>0</dd><dt>smoothness_se</dt><dd>0</dd><dt>compactness_se</dt><dd>0</dd><dt>concavity_se</dt><dd>0</dd><dt>concave_points_se</dt><dd>0</dd><dt>symmetry_se</dt><dd>0</dd><dt>fractal_dimension_se</dt><dd>0</dd><dt>radius_worst</dt><dd>0</dd><dt>texture_worst</dt><dd>0</dd><dt>perimeter_worst</dt><dd>0</dd><dt>area_worst</dt><dd>0</dd><dt>smoothness_worst</dt><dd>0</dd><dt>compactness_worst</dt><dd>0</dd><dt>concavity_worst</dt><dd>0</dd><dt>concave_points_worst</dt><dd>0</dd><dt>symmetry_worst</dt><dd>0</dd><dt>fractal_dimension_worst</dt><dd>0</dd></dl>\n"
            ],
            "text/latex": [
              "\\begin{description*}\n",
              "\\item[id] 0\n",
              "\\item[diagnosis] 0\n",
              "\\item[radius\\textbackslash{}\\_mean] 0\n",
              "\\item[texture\\textbackslash{}\\_mean] 0\n",
              "\\item[perimeter\\textbackslash{}\\_mean] 0\n",
              "\\item[area\\textbackslash{}\\_mean] 0\n",
              "\\item[smoothness\\textbackslash{}\\_mean] 0\n",
              "\\item[compactness\\textbackslash{}\\_mean] 0\n",
              "\\item[concavity\\textbackslash{}\\_mean] 0\n",
              "\\item[concave\\textbackslash{}\\_points\\textbackslash{}\\_mean] 0\n",
              "\\item[symmetry\\textbackslash{}\\_mean] 0\n",
              "\\item[fractal\\textbackslash{}\\_dimension\\textbackslash{}\\_mean] 0\n",
              "\\item[radius\\textbackslash{}\\_se] 0\n",
              "\\item[texture\\textbackslash{}\\_se] 0\n",
              "\\item[perimeter\\textbackslash{}\\_se] 0\n",
              "\\item[area\\textbackslash{}\\_se] 0\n",
              "\\item[smoothness\\textbackslash{}\\_se] 0\n",
              "\\item[compactness\\textbackslash{}\\_se] 0\n",
              "\\item[concavity\\textbackslash{}\\_se] 0\n",
              "\\item[concave\\textbackslash{}\\_points\\textbackslash{}\\_se] 0\n",
              "\\item[symmetry\\textbackslash{}\\_se] 0\n",
              "\\item[fractal\\textbackslash{}\\_dimension\\textbackslash{}\\_se] 0\n",
              "\\item[radius\\textbackslash{}\\_worst] 0\n",
              "\\item[texture\\textbackslash{}\\_worst] 0\n",
              "\\item[perimeter\\textbackslash{}\\_worst] 0\n",
              "\\item[area\\textbackslash{}\\_worst] 0\n",
              "\\item[smoothness\\textbackslash{}\\_worst] 0\n",
              "\\item[compactness\\textbackslash{}\\_worst] 0\n",
              "\\item[concavity\\textbackslash{}\\_worst] 0\n",
              "\\item[concave\\textbackslash{}\\_points\\textbackslash{}\\_worst] 0\n",
              "\\item[symmetry\\textbackslash{}\\_worst] 0\n",
              "\\item[fractal\\textbackslash{}\\_dimension\\textbackslash{}\\_worst] 0\n",
              "\\end{description*}\n"
            ],
            "text/markdown": [
              "id\n",
              ":   0diagnosis\n",
              ":   0radius_mean\n",
              ":   0texture_mean\n",
              ":   0perimeter_mean\n",
              ":   0area_mean\n",
              ":   0smoothness_mean\n",
              ":   0compactness_mean\n",
              ":   0concavity_mean\n",
              ":   0concave_points_mean\n",
              ":   0symmetry_mean\n",
              ":   0fractal_dimension_mean\n",
              ":   0radius_se\n",
              ":   0texture_se\n",
              ":   0perimeter_se\n",
              ":   0area_se\n",
              ":   0smoothness_se\n",
              ":   0compactness_se\n",
              ":   0concavity_se\n",
              ":   0concave_points_se\n",
              ":   0symmetry_se\n",
              ":   0fractal_dimension_se\n",
              ":   0radius_worst\n",
              ":   0texture_worst\n",
              ":   0perimeter_worst\n",
              ":   0area_worst\n",
              ":   0smoothness_worst\n",
              ":   0compactness_worst\n",
              ":   0concavity_worst\n",
              ":   0concave_points_worst\n",
              ":   0symmetry_worst\n",
              ":   0fractal_dimension_worst\n",
              ":   0\n",
              "\n"
            ],
            "text/plain": [
              "                     id               diagnosis             radius_mean \n",
              "                      0                       0                       0 \n",
              "           texture_mean          perimeter_mean               area_mean \n",
              "                      0                       0                       0 \n",
              "        smoothness_mean        compactness_mean          concavity_mean \n",
              "                      0                       0                       0 \n",
              "    concave_points_mean           symmetry_mean  fractal_dimension_mean \n",
              "                      0                       0                       0 \n",
              "              radius_se              texture_se            perimeter_se \n",
              "                      0                       0                       0 \n",
              "                area_se           smoothness_se          compactness_se \n",
              "                      0                       0                       0 \n",
              "           concavity_se       concave_points_se             symmetry_se \n",
              "                      0                       0                       0 \n",
              "   fractal_dimension_se            radius_worst           texture_worst \n",
              "                      0                       0                       0 \n",
              "        perimeter_worst              area_worst        smoothness_worst \n",
              "                      0                       0                       0 \n",
              "      compactness_worst         concavity_worst    concave_points_worst \n",
              "                      0                       0                       0 \n",
              "         symmetry_worst fractal_dimension_worst \n",
              "                      0                       0 "
            ]
          },
          "metadata": {},
          "output_type": "display_data"
        }
      ],
      "source": [
        "# Kiểm tra dữ liệu\n",
        "head(df)\n",
        "summary(df)\n",
        "str(df)\n",
        "colSums(is.na(df))"
      ]
    },
    {
      "cell_type": "code",
      "execution_count": 5,
      "metadata": {
        "id": "AUpCd9DnKSmD",
        "vscode": {
          "languageId": "r"
        }
      },
      "outputs": [],
      "source": [
        "# Đổi tên cột diagnosis thành label\n",
        "df$label <- df$diagnosis\n",
        "df$diagnosis <- NULL"
      ]
    },
    {
      "cell_type": "code",
      "execution_count": 6,
      "metadata": {
        "colab": {
          "base_uri": "https://localhost:8080/",
          "height": 323
        },
        "id": "1Ow5lzgo8p9p",
        "outputId": "8b7368e3-1197-47ba-9585-3eb46e47088f",
        "vscode": {
          "languageId": "r"
        }
      },
      "outputs": [
        {
          "data": {
            "text/html": [
              "<table class=\"dataframe\">\n",
              "<caption>A tibble: 6 × 32</caption>\n",
              "<thead>\n",
              "\t<tr><th scope=col>id</th><th scope=col>radius_mean</th><th scope=col>texture_mean</th><th scope=col>perimeter_mean</th><th scope=col>area_mean</th><th scope=col>smoothness_mean</th><th scope=col>compactness_mean</th><th scope=col>concavity_mean</th><th scope=col>concave_points_mean</th><th scope=col>symmetry_mean</th><th scope=col>⋯</th><th scope=col>texture_worst</th><th scope=col>perimeter_worst</th><th scope=col>area_worst</th><th scope=col>smoothness_worst</th><th scope=col>compactness_worst</th><th scope=col>concavity_worst</th><th scope=col>concave_points_worst</th><th scope=col>symmetry_worst</th><th scope=col>fractal_dimension_worst</th><th scope=col>label</th></tr>\n",
              "\t<tr><th scope=col>&lt;dbl&gt;</th><th scope=col>&lt;dbl&gt;</th><th scope=col>&lt;dbl&gt;</th><th scope=col>&lt;dbl&gt;</th><th scope=col>&lt;dbl&gt;</th><th scope=col>&lt;dbl&gt;</th><th scope=col>&lt;dbl&gt;</th><th scope=col>&lt;dbl&gt;</th><th scope=col>&lt;dbl&gt;</th><th scope=col>&lt;dbl&gt;</th><th scope=col>⋯</th><th scope=col>&lt;dbl&gt;</th><th scope=col>&lt;dbl&gt;</th><th scope=col>&lt;dbl&gt;</th><th scope=col>&lt;dbl&gt;</th><th scope=col>&lt;dbl&gt;</th><th scope=col>&lt;dbl&gt;</th><th scope=col>&lt;dbl&gt;</th><th scope=col>&lt;dbl&gt;</th><th scope=col>&lt;dbl&gt;</th><th scope=col>&lt;chr&gt;</th></tr>\n",
              "</thead>\n",
              "<tbody>\n",
              "\t<tr><td>  842302</td><td>17.99</td><td>10.38</td><td>122.80</td><td>1001.0</td><td>0.11840</td><td>0.27760</td><td>0.3001</td><td>0.14710</td><td>0.2419</td><td>⋯</td><td>17.33</td><td>184.60</td><td>2019.0</td><td>0.1622</td><td>0.6656</td><td>0.7119</td><td>0.2654</td><td>0.4601</td><td>0.11890</td><td>M</td></tr>\n",
              "\t<tr><td>  842517</td><td>20.57</td><td>17.77</td><td>132.90</td><td>1326.0</td><td>0.08474</td><td>0.07864</td><td>0.0869</td><td>0.07017</td><td>0.1812</td><td>⋯</td><td>23.41</td><td>158.80</td><td>1956.0</td><td>0.1238</td><td>0.1866</td><td>0.2416</td><td>0.1860</td><td>0.2750</td><td>0.08902</td><td>M</td></tr>\n",
              "\t<tr><td>84300903</td><td>19.69</td><td>21.25</td><td>130.00</td><td>1203.0</td><td>0.10960</td><td>0.15990</td><td>0.1974</td><td>0.12790</td><td>0.2069</td><td>⋯</td><td>25.53</td><td>152.50</td><td>1709.0</td><td>0.1444</td><td>0.4245</td><td>0.4504</td><td>0.2430</td><td>0.3613</td><td>0.08758</td><td>M</td></tr>\n",
              "\t<tr><td>84348301</td><td>11.42</td><td>20.38</td><td> 77.58</td><td> 386.1</td><td>0.14250</td><td>0.28390</td><td>0.2414</td><td>0.10520</td><td>0.2597</td><td>⋯</td><td>26.50</td><td> 98.87</td><td> 567.7</td><td>0.2098</td><td>0.8663</td><td>0.6869</td><td>0.2575</td><td>0.6638</td><td>0.17300</td><td>M</td></tr>\n",
              "\t<tr><td>84358402</td><td>20.29</td><td>14.34</td><td>135.10</td><td>1297.0</td><td>0.10030</td><td>0.13280</td><td>0.1980</td><td>0.10430</td><td>0.1809</td><td>⋯</td><td>16.67</td><td>152.20</td><td>1575.0</td><td>0.1374</td><td>0.2050</td><td>0.4000</td><td>0.1625</td><td>0.2364</td><td>0.07678</td><td>M</td></tr>\n",
              "\t<tr><td>  843786</td><td>12.45</td><td>15.70</td><td> 82.57</td><td> 477.1</td><td>0.12780</td><td>0.17000</td><td>0.1578</td><td>0.08089</td><td>0.2087</td><td>⋯</td><td>23.75</td><td>103.40</td><td> 741.6</td><td>0.1791</td><td>0.5249</td><td>0.5355</td><td>0.1741</td><td>0.3985</td><td>0.12440</td><td>M</td></tr>\n",
              "</tbody>\n",
              "</table>\n"
            ],
            "text/latex": [
              "A tibble: 6 × 32\n",
              "\\begin{tabular}{lllllllllllllllllllll}\n",
              " id & radius\\_mean & texture\\_mean & perimeter\\_mean & area\\_mean & smoothness\\_mean & compactness\\_mean & concavity\\_mean & concave\\_points\\_mean & symmetry\\_mean & ⋯ & texture\\_worst & perimeter\\_worst & area\\_worst & smoothness\\_worst & compactness\\_worst & concavity\\_worst & concave\\_points\\_worst & symmetry\\_worst & fractal\\_dimension\\_worst & label\\\\\n",
              " <dbl> & <dbl> & <dbl> & <dbl> & <dbl> & <dbl> & <dbl> & <dbl> & <dbl> & <dbl> & ⋯ & <dbl> & <dbl> & <dbl> & <dbl> & <dbl> & <dbl> & <dbl> & <dbl> & <dbl> & <chr>\\\\\n",
              "\\hline\n",
              "\t   842302 & 17.99 & 10.38 & 122.80 & 1001.0 & 0.11840 & 0.27760 & 0.3001 & 0.14710 & 0.2419 & ⋯ & 17.33 & 184.60 & 2019.0 & 0.1622 & 0.6656 & 0.7119 & 0.2654 & 0.4601 & 0.11890 & M\\\\\n",
              "\t   842517 & 20.57 & 17.77 & 132.90 & 1326.0 & 0.08474 & 0.07864 & 0.0869 & 0.07017 & 0.1812 & ⋯ & 23.41 & 158.80 & 1956.0 & 0.1238 & 0.1866 & 0.2416 & 0.1860 & 0.2750 & 0.08902 & M\\\\\n",
              "\t 84300903 & 19.69 & 21.25 & 130.00 & 1203.0 & 0.10960 & 0.15990 & 0.1974 & 0.12790 & 0.2069 & ⋯ & 25.53 & 152.50 & 1709.0 & 0.1444 & 0.4245 & 0.4504 & 0.2430 & 0.3613 & 0.08758 & M\\\\\n",
              "\t 84348301 & 11.42 & 20.38 &  77.58 &  386.1 & 0.14250 & 0.28390 & 0.2414 & 0.10520 & 0.2597 & ⋯ & 26.50 &  98.87 &  567.7 & 0.2098 & 0.8663 & 0.6869 & 0.2575 & 0.6638 & 0.17300 & M\\\\\n",
              "\t 84358402 & 20.29 & 14.34 & 135.10 & 1297.0 & 0.10030 & 0.13280 & 0.1980 & 0.10430 & 0.1809 & ⋯ & 16.67 & 152.20 & 1575.0 & 0.1374 & 0.2050 & 0.4000 & 0.1625 & 0.2364 & 0.07678 & M\\\\\n",
              "\t   843786 & 12.45 & 15.70 &  82.57 &  477.1 & 0.12780 & 0.17000 & 0.1578 & 0.08089 & 0.2087 & ⋯ & 23.75 & 103.40 &  741.6 & 0.1791 & 0.5249 & 0.5355 & 0.1741 & 0.3985 & 0.12440 & M\\\\\n",
              "\\end{tabular}\n"
            ],
            "text/markdown": [
              "\n",
              "A tibble: 6 × 32\n",
              "\n",
              "| id &lt;dbl&gt; | radius_mean &lt;dbl&gt; | texture_mean &lt;dbl&gt; | perimeter_mean &lt;dbl&gt; | area_mean &lt;dbl&gt; | smoothness_mean &lt;dbl&gt; | compactness_mean &lt;dbl&gt; | concavity_mean &lt;dbl&gt; | concave_points_mean &lt;dbl&gt; | symmetry_mean &lt;dbl&gt; | ⋯ ⋯ | texture_worst &lt;dbl&gt; | perimeter_worst &lt;dbl&gt; | area_worst &lt;dbl&gt; | smoothness_worst &lt;dbl&gt; | compactness_worst &lt;dbl&gt; | concavity_worst &lt;dbl&gt; | concave_points_worst &lt;dbl&gt; | symmetry_worst &lt;dbl&gt; | fractal_dimension_worst &lt;dbl&gt; | label &lt;chr&gt; |\n",
              "|---|---|---|---|---|---|---|---|---|---|---|---|---|---|---|---|---|---|---|---|---|\n",
              "|   842302 | 17.99 | 10.38 | 122.80 | 1001.0 | 0.11840 | 0.27760 | 0.3001 | 0.14710 | 0.2419 | ⋯ | 17.33 | 184.60 | 2019.0 | 0.1622 | 0.6656 | 0.7119 | 0.2654 | 0.4601 | 0.11890 | M |\n",
              "|   842517 | 20.57 | 17.77 | 132.90 | 1326.0 | 0.08474 | 0.07864 | 0.0869 | 0.07017 | 0.1812 | ⋯ | 23.41 | 158.80 | 1956.0 | 0.1238 | 0.1866 | 0.2416 | 0.1860 | 0.2750 | 0.08902 | M |\n",
              "| 84300903 | 19.69 | 21.25 | 130.00 | 1203.0 | 0.10960 | 0.15990 | 0.1974 | 0.12790 | 0.2069 | ⋯ | 25.53 | 152.50 | 1709.0 | 0.1444 | 0.4245 | 0.4504 | 0.2430 | 0.3613 | 0.08758 | M |\n",
              "| 84348301 | 11.42 | 20.38 |  77.58 |  386.1 | 0.14250 | 0.28390 | 0.2414 | 0.10520 | 0.2597 | ⋯ | 26.50 |  98.87 |  567.7 | 0.2098 | 0.8663 | 0.6869 | 0.2575 | 0.6638 | 0.17300 | M |\n",
              "| 84358402 | 20.29 | 14.34 | 135.10 | 1297.0 | 0.10030 | 0.13280 | 0.1980 | 0.10430 | 0.1809 | ⋯ | 16.67 | 152.20 | 1575.0 | 0.1374 | 0.2050 | 0.4000 | 0.1625 | 0.2364 | 0.07678 | M |\n",
              "|   843786 | 12.45 | 15.70 |  82.57 |  477.1 | 0.12780 | 0.17000 | 0.1578 | 0.08089 | 0.2087 | ⋯ | 23.75 | 103.40 |  741.6 | 0.1791 | 0.5249 | 0.5355 | 0.1741 | 0.3985 | 0.12440 | M |\n",
              "\n"
            ],
            "text/plain": [
              "  id       radius_mean texture_mean perimeter_mean area_mean smoothness_mean\n",
              "1   842302 17.99       10.38        122.80         1001.0    0.11840        \n",
              "2   842517 20.57       17.77        132.90         1326.0    0.08474        \n",
              "3 84300903 19.69       21.25        130.00         1203.0    0.10960        \n",
              "4 84348301 11.42       20.38         77.58          386.1    0.14250        \n",
              "5 84358402 20.29       14.34        135.10         1297.0    0.10030        \n",
              "6   843786 12.45       15.70         82.57          477.1    0.12780        \n",
              "  compactness_mean concavity_mean concave_points_mean symmetry_mean ⋯\n",
              "1 0.27760          0.3001         0.14710             0.2419        ⋯\n",
              "2 0.07864          0.0869         0.07017             0.1812        ⋯\n",
              "3 0.15990          0.1974         0.12790             0.2069        ⋯\n",
              "4 0.28390          0.2414         0.10520             0.2597        ⋯\n",
              "5 0.13280          0.1980         0.10430             0.1809        ⋯\n",
              "6 0.17000          0.1578         0.08089             0.2087        ⋯\n",
              "  texture_worst perimeter_worst area_worst smoothness_worst compactness_worst\n",
              "1 17.33         184.60          2019.0     0.1622           0.6656           \n",
              "2 23.41         158.80          1956.0     0.1238           0.1866           \n",
              "3 25.53         152.50          1709.0     0.1444           0.4245           \n",
              "4 26.50          98.87           567.7     0.2098           0.8663           \n",
              "5 16.67         152.20          1575.0     0.1374           0.2050           \n",
              "6 23.75         103.40           741.6     0.1791           0.5249           \n",
              "  concavity_worst concave_points_worst symmetry_worst fractal_dimension_worst\n",
              "1 0.7119          0.2654               0.4601         0.11890                \n",
              "2 0.2416          0.1860               0.2750         0.08902                \n",
              "3 0.4504          0.2430               0.3613         0.08758                \n",
              "4 0.6869          0.2575               0.6638         0.17300                \n",
              "5 0.4000          0.1625               0.2364         0.07678                \n",
              "6 0.5355          0.1741               0.3985         0.12440                \n",
              "  label\n",
              "1 M    \n",
              "2 M    \n",
              "3 M    \n",
              "4 M    \n",
              "5 M    \n",
              "6 M    "
            ]
          },
          "metadata": {},
          "output_type": "display_data"
        }
      ],
      "source": [
        "head(df)"
      ]
    },
    {
      "cell_type": "code",
      "execution_count": 7,
      "metadata": {
        "colab": {
          "base_uri": "https://localhost:8080/",
          "height": 71
        },
        "id": "w9Kt5qazKWAr",
        "outputId": "0627215a-0b7a-49ac-8c1a-61cb5d4b5471",
        "vscode": {
          "languageId": "r"
        }
      },
      "outputs": [
        {
          "data": {
            "text/plain": [
              "\n",
              "  B   M \n",
              "357 212 "
            ]
          },
          "metadata": {},
          "output_type": "display_data"
        }
      ],
      "source": [
        "# Đếm số lượng mỗi lớp\n",
        "table(df$label)"
      ]
    },
    {
      "cell_type": "code",
      "execution_count": 8,
      "metadata": {
        "id": "ChEZo2JQKWbZ",
        "vscode": {
          "languageId": "r"
        }
      },
      "outputs": [],
      "source": [
        "# Lựa chọn đặc trưng\n",
        "# selected_features <- c(\n",
        "#   \"radius_mean\", \"perimeter_mean\", \"area_mean\", \"concavity_mean\",\n",
        "#   \"concave_points_mean\", \"compactness_mean\", \"radius_worst\",\n",
        "#   \"perimeter_worst\", \"area_worst\", \"concave_points_worst\"\n",
        "# )\n",
        "\n",
        "selected_features <- c(\n",
        "  'radius_mean', 'perimeter_mean', 'compactness_mean', 'area_mean', 'concavity_mean',\n",
        "  'concavity_se', 'perimeter_se',  'radius_worst'\n",
        ")\n",
        "df <- df[, c(selected_features, \"label\"), with=FALSE]\n"
      ]
    },
    {
      "cell_type": "code",
      "execution_count": 9,
      "metadata": {
        "id": "bs5oSN3oKZqD",
        "vscode": {
          "languageId": "r"
        }
      },
      "outputs": [],
      "source": [
        "# Mã hóa nhãn\n",
        "df$label <- as.factor(ifelse(df$label == \"M\", 1, 0))\n"
      ]
    },
    {
      "cell_type": "code",
      "execution_count": 10,
      "metadata": {
        "id": "E00iRmG_KcCD",
        "vscode": {
          "languageId": "r"
        }
      },
      "outputs": [],
      "source": [
        "# Chuẩn hóa dữ liệu\n",
        "# Get all column names\n",
        "all_cols = colnames(df)\n",
        "# Exclude the 'label' column from the list of column names\n",
        "features_for_scaling = setdiff(all_cols, \"label\")\n",
        "# Select only the feature columns for scaling\n",
        "scaler <- preProcess(df[, features_for_scaling, with=FALSE], method = c(\"center\", \"scale\"))\n",
        "df_scaled <- predict(scaler, df)\n"
      ]
    },
    {
      "cell_type": "code",
      "execution_count": 11,
      "metadata": {
        "id": "dTuijVJjKeJ6",
        "vscode": {
          "languageId": "r"
        }
      },
      "outputs": [],
      "source": [
        "# Lưu scaler\n",
        "saveRDS(scaler, \"scaler_model.rds\")"
      ]
    },
    {
      "cell_type": "code",
      "execution_count": 12,
      "metadata": {
        "id": "t3zOIgl_Kfnr",
        "vscode": {
          "languageId": "r"
        }
      },
      "outputs": [],
      "source": [
        "# Phân chia tập train/test\n",
        "set.seed(42)\n",
        "trainIndex <- createDataPartition(df_scaled$label, p = 0.8, list = FALSE)\n",
        "train_data <- df_scaled[trainIndex, ]\n",
        "test_data <- df_scaled[-trainIndex, ]"
      ]
    },
    {
      "cell_type": "code",
      "execution_count": 13,
      "metadata": {
        "id": "4bTCGdTIKgET",
        "vscode": {
          "languageId": "r"
        }
      },
      "outputs": [],
      "source": [
        "# # Cân bằng dữ liệu bằng SMOTE\n",
        "# train_data$label <- as.factor(train_data$label)\n",
        "# train_data_smote <- SMOTE(label ~ ., data = train_data)\n"
      ]
    },
    {
      "cell_type": "code",
      "execution_count": 14,
      "metadata": {
        "id": "OMqRHSnGKjlO",
        "vscode": {
          "languageId": "r"
        }
      },
      "outputs": [],
      "source": [
        "# # Xác nhận lại dữ liệu sau SMOTE\n",
        "# table(train_data_smote$label)"
      ]
    },
    {
      "cell_type": "code",
      "execution_count": 15,
      "metadata": {
        "id": "kMEdeV6yKlfz",
        "vscode": {
          "languageId": "r"
        }
      },
      "outputs": [],
      "source": [
        "# Huấn luyện mô hình SVM với xác suất\n",
        "svm_model <- svm(label ~ ., data = train_data, kernel = \"radial\", probability = TRUE)\n"
      ]
    },
    {
      "cell_type": "code",
      "execution_count": 16,
      "metadata": {
        "id": "_LJC7Zzr42md",
        "vscode": {
          "languageId": "r"
        }
      },
      "outputs": [],
      "source": [
        "# Lưu mô hình SVM\n",
        "saveRDS(svm_model, \"svm_model.rds\")"
      ]
    },
    {
      "cell_type": "code",
      "execution_count": 17,
      "metadata": {
        "id": "4SrOxTWm6P6f",
        "vscode": {
          "languageId": "r"
        }
      },
      "outputs": [],
      "source": [
        "# Dự đoán trên test set\n",
        "pred <- predict(svm_model, test_data %>% select(-label))\n"
      ]
    },
    {
      "cell_type": "code",
      "execution_count": 18,
      "metadata": {
        "colab": {
          "base_uri": "https://localhost:8080/"
        },
        "id": "Yg18H4gpJodw",
        "outputId": "83d642e3-3e4f-440b-c72d-a36fa683837d",
        "vscode": {
          "languageId": "r"
        }
      },
      "outputs": [
        {
          "name": "stdout",
          "output_type": "stream",
          "text": [
            "  1   2   3   4   5   6   7   8   9  10  11  12  13  14  15  16  17  18  19  20 \n",
            "  1   1   1   1   1   1   1   0   1   0   1   0   1   0   1   1   1   1   1   0 \n",
            " 21  22  23  24  25  26  27  28  29  30  31  32  33  34  35  36  37  38  39  40 \n",
            "  0   1   0   0   1   0   0   0   0   0   0   1   0   1   0   1   0   1   1   0 \n",
            " 41  42  43  44  45  46  47  48  49  50  51  52  53  54  55  56  57  58  59  60 \n",
            "  0   1   0   1   0   0   0   0   1   1   1   1   0   0   0   0   0   1   0   0 \n",
            " 61  62  63  64  65  66  67  68  69  70  71  72  73  74  75  76  77  78  79  80 \n",
            "  0   0   0   0   1   1   0   0   1   1   0   0   0   0   0   0   0   0   1   0 \n",
            " 81  82  83  84  85  86  87  88  89  90  91  92  93  94  95  96  97  98  99 100 \n",
            "  0   0   0   0   0   0   1   1   1   0   0   1   0   0   0   0   0   0   0   0 \n",
            "101 102 103 104 105 106 107 108 109 110 111 112 113 \n",
            "  0   1   1   0   0   1   0   0   0   0   0   1   1 \n",
            "Levels: 0 1\n"
          ]
        }
      ],
      "source": [
        "print(pred)"
      ]
    },
    {
      "cell_type": "code",
      "execution_count": 19,
      "metadata": {
        "id": "WsMvItGA6RhU",
        "vscode": {
          "languageId": "r"
        }
      },
      "outputs": [],
      "source": [
        "# Dự đoán xác suất\n",
        "pred_prob <- attr(predict(svm_model, test_data %>% select(-label), probability = TRUE), \"probabilities\")\n",
        "prob_class_1 <- pred_prob[,2]"
      ]
    },
    {
      "cell_type": "code",
      "execution_count": 20,
      "metadata": {
        "colab": {
          "base_uri": "https://localhost:8080/"
        },
        "id": "pnot77EvJwtk",
        "outputId": "918c4b71-55c3-4178-ab9c-92cd0e408fc1",
        "vscode": {
          "languageId": "r"
        }
      },
      "outputs": [
        {
          "name": "stdout",
          "output_type": "stream",
          "text": [
            "              1           0\n",
            "1   0.979908696 0.020091304\n",
            "2   0.993680145 0.006319855\n",
            "3   0.995446859 0.004553141\n",
            "4   0.992661531 0.007338469\n",
            "5   0.998403189 0.001596811\n",
            "6   0.992056283 0.007943717\n",
            "7   0.627856769 0.372143231\n",
            "8   0.352135403 0.647864597\n",
            "9   0.911094384 0.088905616\n",
            "10  0.019709036 0.980290964\n",
            "11  0.997790927 0.002209073\n",
            "12  0.018352800 0.981647200\n",
            "13  0.741141874 0.258858126\n",
            "14  0.068107500 0.931892500\n",
            "15  0.990552895 0.009447105\n",
            "16  0.641317895 0.358682105\n",
            "17  0.741725947 0.258274053\n",
            "18  0.995506816 0.004493184\n",
            "19  0.995973062 0.004026938\n",
            "20  0.556447961 0.443552039\n",
            "21  0.014557831 0.985442169\n",
            "22  0.983076841 0.016923159\n",
            "23  0.017782018 0.982217982\n",
            "24  0.013942399 0.986057601\n",
            "25  0.995904420 0.004095580\n",
            "26  0.350551898 0.649448102\n",
            "27  0.019725292 0.980274708\n",
            "28  0.017125564 0.982874436\n",
            "29  0.093911092 0.906088908\n",
            "30  0.012887492 0.987112508\n",
            "31  0.068949990 0.931050010\n",
            "32  0.992273759 0.007726241\n",
            "33  0.012140641 0.987859359\n",
            "34  0.984450467 0.015549533\n",
            "35  0.063403143 0.936596857\n",
            "36  0.964908992 0.035091008\n",
            "37  0.011747800 0.988252200\n",
            "38  0.910253998 0.089746002\n",
            "39  0.987822423 0.012177577\n",
            "40  0.019316380 0.980683620\n",
            "41  0.198610275 0.801389725\n",
            "42  0.842969691 0.157030309\n",
            "43  0.016702888 0.983297112\n",
            "44  0.972901293 0.027098707\n",
            "45  0.032155386 0.967844614\n",
            "46  0.026737816 0.973262184\n",
            "47  0.012328097 0.987671903\n",
            "48  0.020030863 0.979969137\n",
            "49  0.990746274 0.009253726\n",
            "50  0.997637810 0.002362190\n",
            "51  0.837858751 0.162141249\n",
            "52  0.967327685 0.032672315\n",
            "53  0.014696199 0.985303801\n",
            "54  0.014290670 0.985709330\n",
            "55  0.055914184 0.944085816\n",
            "56  0.028629310 0.971370690\n",
            "57  0.048576484 0.951423516\n",
            "58  0.996337422 0.003662578\n",
            "59  0.017719645 0.982280355\n",
            "60  0.063297073 0.936702927\n",
            "61  0.126687178 0.873312822\n",
            "62  0.037939378 0.962060622\n",
            "63  0.030105713 0.969894287\n",
            "64  0.021595460 0.978404540\n",
            "65  0.988398985 0.011601015\n",
            "66  0.995604294 0.004395706\n",
            "67  0.028546678 0.971453322\n",
            "68  0.020061720 0.979938280\n",
            "69  0.913853289 0.086146711\n",
            "70  0.964060650 0.035939350\n",
            "71  0.038587409 0.961412591\n",
            "72  0.053553682 0.946446318\n",
            "73  0.038897564 0.961102436\n",
            "74  0.051976506 0.948023494\n",
            "75  0.008714122 0.991285878\n",
            "76  0.009033361 0.990966639\n",
            "77  0.025483962 0.974516038\n",
            "78  0.011173153 0.988826847\n",
            "79  0.993345240 0.006654760\n",
            "80  0.016747806 0.983252194\n",
            "81  0.013400409 0.986599591\n",
            "82  0.016719537 0.983280463\n",
            "83  0.009615486 0.990384514\n",
            "84  0.014952882 0.985047118\n",
            "85  0.018167632 0.981832368\n",
            "86  0.024018476 0.975981524\n",
            "87  0.991657631 0.008342369\n",
            "88  0.997882759 0.002117241\n",
            "89  0.993237186 0.006762814\n",
            "90  0.011307563 0.988692437\n",
            "91  0.028153665 0.971846335\n",
            "92  0.844085989 0.155914011\n",
            "93  0.027139999 0.972860001\n",
            "94  0.112161080 0.887838920\n",
            "95  0.026769417 0.973230583\n",
            "96  0.209989097 0.790010903\n",
            "97  0.130868625 0.869131375\n",
            "98  0.119649898 0.880350102\n",
            "99  0.042303867 0.957696133\n",
            "100 0.019927785 0.980072215\n",
            "101 0.541036150 0.458963850\n",
            "102 0.939160362 0.060839638\n",
            "103 0.997464053 0.002535947\n",
            "104 0.122987324 0.877012676\n",
            "105 0.432166971 0.567833029\n",
            "106 0.943284168 0.056715832\n",
            "107 0.591132043 0.408867957\n",
            "108 0.014142964 0.985857036\n",
            "109 0.020998495 0.979001505\n",
            "110 0.017720033 0.982279967\n",
            "111 0.018797128 0.981202872\n",
            "112 0.987562413 0.012437587\n",
            "113 0.968727563 0.031272437\n",
            "          1           2           3           4           5           6 \n",
            "0.020091304 0.006319855 0.004553141 0.007338469 0.001596811 0.007943717 \n",
            "          7           8           9          10          11          12 \n",
            "0.372143231 0.647864597 0.088905616 0.980290964 0.002209073 0.981647200 \n",
            "         13          14          15          16          17          18 \n",
            "0.258858126 0.931892500 0.009447105 0.358682105 0.258274053 0.004493184 \n",
            "         19          20          21          22          23          24 \n",
            "0.004026938 0.443552039 0.985442169 0.016923159 0.982217982 0.986057601 \n",
            "         25          26          27          28          29          30 \n",
            "0.004095580 0.649448102 0.980274708 0.982874436 0.906088908 0.987112508 \n",
            "         31          32          33          34          35          36 \n",
            "0.931050010 0.007726241 0.987859359 0.015549533 0.936596857 0.035091008 \n",
            "         37          38          39          40          41          42 \n",
            "0.988252200 0.089746002 0.012177577 0.980683620 0.801389725 0.157030309 \n",
            "         43          44          45          46          47          48 \n",
            "0.983297112 0.027098707 0.967844614 0.973262184 0.987671903 0.979969137 \n",
            "         49          50          51          52          53          54 \n",
            "0.009253726 0.002362190 0.162141249 0.032672315 0.985303801 0.985709330 \n",
            "         55          56          57          58          59          60 \n",
            "0.944085816 0.971370690 0.951423516 0.003662578 0.982280355 0.936702927 \n",
            "         61          62          63          64          65          66 \n",
            "0.873312822 0.962060622 0.969894287 0.978404540 0.011601015 0.004395706 \n",
            "         67          68          69          70          71          72 \n",
            "0.971453322 0.979938280 0.086146711 0.035939350 0.961412591 0.946446318 \n",
            "         73          74          75          76          77          78 \n",
            "0.961102436 0.948023494 0.991285878 0.990966639 0.974516038 0.988826847 \n",
            "         79          80          81          82          83          84 \n",
            "0.006654760 0.983252194 0.986599591 0.983280463 0.990384514 0.985047118 \n",
            "         85          86          87          88          89          90 \n",
            "0.981832368 0.975981524 0.008342369 0.002117241 0.006762814 0.988692437 \n",
            "         91          92          93          94          95          96 \n",
            "0.971846335 0.155914011 0.972860001 0.887838920 0.973230583 0.790010903 \n",
            "         97          98          99         100         101         102 \n",
            "0.869131375 0.880350102 0.957696133 0.980072215 0.458963850 0.060839638 \n",
            "        103         104         105         106         107         108 \n",
            "0.002535947 0.877012676 0.567833029 0.056715832 0.408867957 0.985857036 \n",
            "        109         110         111         112         113 \n",
            "0.979001505 0.982279967 0.981202872 0.012437587 0.031272437 \n"
          ]
        }
      ],
      "source": [
        "print(pred_prob)\n",
        "print(prob_class_1)"
      ]
    },
    {
      "cell_type": "code",
      "execution_count": 21,
      "metadata": {
        "colab": {
          "base_uri": "https://localhost:8080/",
          "height": 34
        },
        "id": "X2qFoe_96TD5",
        "outputId": "1a45c111-e977-4419-ce8d-82a2f3ab22e2",
        "vscode": {
          "languageId": "r"
        }
      },
      "outputs": [
        {
          "data": {
            "text/html": [
              "0.938053097345133"
            ],
            "text/latex": [
              "0.938053097345133"
            ],
            "text/markdown": [
              "0.938053097345133"
            ],
            "text/plain": [
              "[1] 0.9380531"
            ]
          },
          "metadata": {},
          "output_type": "display_data"
        }
      ],
      "source": [
        "# Accuracy\n",
        "mean(pred == test_data$label)\n"
      ]
    },
    {
      "cell_type": "code",
      "execution_count": 22,
      "metadata": {
        "colab": {
          "base_uri": "https://localhost:8080/",
          "height": 34
        },
        "id": "CLaWKoYjl4I9",
        "outputId": "b40dc6e2-2174-408c-8fd6-cfe7e9d8a2a6",
        "vscode": {
          "languageId": "r"
        }
      },
      "outputs": [
        {
          "data": {
            "text/html": [
              "<style>\n",
              ".list-inline {list-style: none; margin:0; padding: 0}\n",
              ".list-inline>li {display: inline-block}\n",
              ".list-inline>li:not(:last-child)::after {content: \"\\00b7\"; padding: 0 .5ex}\n",
              "</style>\n",
              "<ol class=list-inline><li>0.91450071667463</li><li>0.923220258002867</li><li>0.934185379837554</li></ol>\n"
            ],
            "text/latex": [
              "\\begin{enumerate*}\n",
              "\\item 0.91450071667463\n",
              "\\item 0.923220258002867\n",
              "\\item 0.934185379837554\n",
              "\\end{enumerate*}\n"
            ],
            "text/markdown": [
              "1. 0.91450071667463\n",
              "2. 0.923220258002867\n",
              "3. 0.934185379837554\n",
              "\n",
              "\n"
            ],
            "text/plain": [
              "[1] 0.9145007 0.9232203 0.9341854"
            ]
          },
          "metadata": {},
          "output_type": "display_data"
        }
      ],
      "source": [
        "# Cross-validation score\n",
        "set.seed(42)\n",
        "cv_result <- train(label ~ ., data = train_data, method = \"svmRadial\",\n",
        "                   trControl = trainControl(method = \"cv\", number = 5))\n",
        "cv_result$results$Accuracy"
      ]
    },
    {
      "cell_type": "code",
      "execution_count": 23,
      "metadata": {
        "colab": {
          "base_uri": "https://localhost:8080/",
          "height": 506
        },
        "id": "-UBcp30F6UjA",
        "outputId": "90679ad7-a527-4ea1-f7fb-503e42deabb8",
        "vscode": {
          "languageId": "r"
        }
      },
      "outputs": [
        {
          "data": {
            "text/plain": [
              "Confusion Matrix and Statistics\n",
              "\n",
              "          Reference\n",
              "Prediction  0  1\n",
              "         0 67  3\n",
              "         1  4 39\n",
              "                                          \n",
              "               Accuracy : 0.9381          \n",
              "                 95% CI : (0.8765, 0.9747)\n",
              "    No Information Rate : 0.6283          \n",
              "    P-Value [Acc > NIR] : 1.718e-14       \n",
              "                                          \n",
              "                  Kappa : 0.868           \n",
              "                                          \n",
              " Mcnemar's Test P-Value : 1               \n",
              "                                          \n",
              "            Sensitivity : 0.9437          \n",
              "            Specificity : 0.9286          \n",
              "         Pos Pred Value : 0.9571          \n",
              "         Neg Pred Value : 0.9070          \n",
              "             Prevalence : 0.6283          \n",
              "         Detection Rate : 0.5929          \n",
              "   Detection Prevalence : 0.6195          \n",
              "      Balanced Accuracy : 0.9361          \n",
              "                                          \n",
              "       'Positive' Class : 0               \n",
              "                                          "
            ]
          },
          "metadata": {},
          "output_type": "display_data"
        }
      ],
      "source": [
        "# Confusion matrix\n",
        "confusionMatrix(pred, as.factor(test_data$label))"
      ]
    },
    {
      "cell_type": "code",
      "execution_count": 24,
      "metadata": {
        "colab": {
          "base_uri": "https://localhost:8080/",
          "height": 506
        },
        "id": "Pi4lYx-M6V8O",
        "outputId": "a251358a-ab8d-4aa9-e3fa-ee123c76dcc6",
        "vscode": {
          "languageId": "r"
        }
      },
      "outputs": [
        {
          "data": {
            "text/plain": [
              "Confusion Matrix and Statistics\n",
              "\n",
              "          Reference\n",
              "Prediction  0  1\n",
              "         0 67  3\n",
              "         1  4 39\n",
              "                                          \n",
              "               Accuracy : 0.9381          \n",
              "                 95% CI : (0.8765, 0.9747)\n",
              "    No Information Rate : 0.6283          \n",
              "    P-Value [Acc > NIR] : 1.718e-14       \n",
              "                                          \n",
              "                  Kappa : 0.868           \n",
              "                                          \n",
              " Mcnemar's Test P-Value : 1               \n",
              "                                          \n",
              "            Sensitivity : 0.9437          \n",
              "            Specificity : 0.9286          \n",
              "         Pos Pred Value : 0.9571          \n",
              "         Neg Pred Value : 0.9070          \n",
              "             Prevalence : 0.6283          \n",
              "         Detection Rate : 0.5929          \n",
              "   Detection Prevalence : 0.6195          \n",
              "      Balanced Accuracy : 0.9361          \n",
              "                                          \n",
              "       'Positive' Class : 0               \n",
              "                                          "
            ]
          },
          "metadata": {},
          "output_type": "display_data"
        }
      ],
      "source": [
        "# Classification report (precision, recall, F1)\n",
        "confusionMatrix(pred, as.factor(test_data$label))\n"
      ]
    },
    {
      "cell_type": "code",
      "execution_count": 25,
      "metadata": {
        "colab": {
          "base_uri": "https://localhost:8080/",
          "height": 437
        },
        "id": "xq2ALBHclLeb",
        "outputId": "92f54bdc-662e-424e-f888-3748ef8ba8a5",
        "vscode": {
          "languageId": "r"
        }
      },
      "outputs": [
        {
          "data": {
            "image/png": "[encoded data removed]",
            "text/plain": [
              "Plot with title \"ROC Curves for Train and Test Sets\""
            ]
          },
          "metadata": {
            "image/png": {
              "height": 420,
              "width": 420
            }
          },
          "output_type": "display_data"
        }
      ],
      "source": [
        "# Dự đoán xác suất trên tập train\n",
        "# Explicitly select columns for prediction on train data, excluding 'label'\n",
        "feature_cols_train <- setdiff(colnames(train_data), \"label\")\n",
        "pred_prob_train <- attr(predict(svm_model, train_data[, feature_cols_train, with=FALSE], probability = TRUE), \"probabilities\")\n",
        "prob_class_1_train <- pred_prob_train[,2]\n",
        "\n",
        "\n",
        "# Dự đoán xác suất trên tập test (already have prob_class_1)\n",
        "\n",
        "\n",
        "# Calculate ROC objects for both train and test sets\n",
        "roc_obj_train <- roc(response = train_data$label, predictor = prob_class_1_train, levels = c(0, 1), direction = \">\")\n",
        "roc_obj_test <- roc(response = test_data$label, predictor = prob_class_1, levels = c(0, 1), direction = \">\")\n",
        "\n",
        "# Plot ROC Curves for Train and Test Sets\n",
        "plot(roc_obj_train, col = \"blue\", main = \"ROC Curves for Train and Test Sets\", legacy.axes = TRUE)\n",
        "lines(roc_obj_test, col = \"red\")\n",
        "\n",
        "# Thêm chú thích AUC\n",
        "legend(\"bottomright\",\n",
        "       legend = c(paste(\"Train ROC Curve =\", round(auc(roc_obj_train), 3)),\n",
        "                  paste(\"Test ROC Curve =\", round(auc(roc_obj_test), 3))),\n",
        "       col = c(\"blue\", \"red\"),\n",
        "       lwd = 2)"
      ]
    },
    {
      "cell_type": "code",
      "execution_count": 26,
      "metadata": {
        "colab": {
          "base_uri": "https://localhost:8080/",
          "height": 437
        },
        "id": "SERojLt4mVtT",
        "outputId": "ff60ca65-eaa2-4025-c0b5-859a93b8b284",
        "vscode": {
          "languageId": "r"
        }
      },
      "outputs": [
        {
          "data": {
            "image/png": "[encoded data removed]",
            "text/plain": [
              "Plot with title \"Precision-Recall Curve\n",
              "AUC = 0.91\n",
              "AUC = 0.9101543\""
            ]
          },
          "metadata": {
            "image/png": {
              "height": 420,
              "width": 420
            }
          },
          "output_type": "display_data"
        }
      ],
      "source": [
        "# Chuyển nhãn sang numeric nếu chưa\n",
        "true_labels <- as.numeric(as.character(test_data$label))\n",
        "\n",
        "# Tính PR curve với class 1 là positive\n",
        "# We need to provide scores for both class 1 and class 0 when curve=TRUE\n",
        "pr <- pr.curve(scores.class1 = prob_class_1, scores.class0 = 1 - prob_class_1, weights.class1 = true_labels, curve = TRUE)\n",
        "\n",
        "# Vẽ PR Curve đúng\n",
        "plot(pr, main = paste0(\"Precision-Recall Curve\\nAUC = \", round(pr$auc.integral, 3)))"
      ]
    },
    {
      "cell_type": "code",
      "execution_count": 27,
      "metadata": {
        "colab": {
          "base_uri": "https://localhost:8080/",
          "height": 690
        },
        "id": "4R9EnUOJ6c4j",
        "outputId": "6181469f-6dd9-4f20-ad27-2c78f54830bb",
        "vscode": {
          "languageId": "r"
        }
      },
      "outputs": [
        {
          "name": "stderr",
          "output_type": "stream",
          "text": [
            "\n",
            "Attaching package: 'reshape2'\n",
            "\n",
            "\n",
            "The following objects are masked from 'package:data.table':\n",
            "\n",
            "    dcast, melt\n",
            "\n",
            "\n",
            "The following object is masked from 'package:tidyr':\n",
            "\n",
            "    smiths\n",
            "\n",
            "\n"
          ]
        },
        {
          "data": {
            "image/png": "[encoded data removed]",
            "text/plain": [
              "plot without title"
            ]
          },
          "metadata": {
            "image/png": {
              "height": 420,
              "width": 420
            }
          },
          "output_type": "display_data"
        }
      ],
      "source": [
        "# Calibration curve\n",
        "library(reshape2)\n",
        "test_data$prob <- prob_class_1\n",
        "test_data$bin <- cut(test_data$prob, breaks = seq(0, 1, by = 0.1), include.lowest = TRUE)\n",
        "calib <- test_data %>%\n",
        "  group_by(bin) %>%\n",
        "  summarise(mean_pred = mean(prob), observed = mean(as.numeric(as.character(label))))\n",
        "\n",
        "ggplot(calib, aes(x = mean_pred, y = observed)) +\n",
        "  geom_line(color = \"blue\") +\n",
        "  geom_abline(slope = 1, intercept = 0, linetype = \"dashed\") +\n",
        "  labs(x = \"Predicted probability\", y = \"Observed proportion\", title = \"Calibration Curve\") +\n",
        "  theme_minimal()\n"
      ]
    },
    {
      "cell_type": "code",
      "execution_count": 28,
      "metadata": {
        "colab": {
          "base_uri": "https://localhost:8080/",
          "height": 618
        },
        "id": "hMzJ32wFn3QC",
        "outputId": "894a2b83-c9d9-4a8f-db32-b9075e695087",
        "vscode": {
          "languageId": "r"
        }
      },
      "outputs": [
        {
          "name": "stderr",
          "output_type": "stream",
          "text": [
            "Warning message in simpleLoess(y, x, w, span, degree = degree, parametric = parametric, :\n",
            "\"span too small.   fewer data values than degrees of freedom.\"\n",
            "Warning message in simpleLoess(y, x, w, span, degree = degree, parametric = parametric, :\n",
            "\"pseudoinverse used at 0.026474\"\n",
            "Warning message in simpleLoess(y, x, w, span, degree = degree, parametric = parametric, :\n",
            "\"neighborhood radius 0.44333\"\n",
            "Warning message in simpleLoess(y, x, w, span, degree = degree, parametric = parametric, :\n",
            "\"reciprocal condition number  0\"\n",
            "Warning message in simpleLoess(y, x, w, span, degree = degree, parametric = parametric, :\n",
            "\"There are other near singularities as well. 0.24755\"\n"
          ]
        },
        {
          "data": {
            "image/png": "[encoded data removed]",
            "text/plain": [
              "plot without title"
            ]
          },
          "metadata": {
            "image/png": {
              "height": 420,
              "width": 420
            }
          },
          "output_type": "display_data"
        }
      ],
      "source": [
        "test_data$prob <- prob_class_1\n",
        "\n",
        "# Giảm số lượng bin để giảm nhiễu\n",
        "# Dùng bin rộng hơn: chia theo 0.2 thay vì 0.1\n",
        "bins <- seq(0, 1, by = 0.2)\n",
        "test_data$bin <- cut(test_data$prob, breaks = bins, include.lowest = TRUE)\n",
        "\n",
        "# Tính trung bình xác suất dự đoán và xác suất quan sát theo bin\n",
        "calib <- test_data %>%\n",
        "  group_by(bin) %>%\n",
        "  summarise(mean_pred = mean(prob),\n",
        "            observed = mean(as.numeric(as.character(label))))\n",
        "\n",
        "# Vẽ đường calibration làm mượt bằng loess\n",
        "library(ggplot2)\n",
        "ggplot(calib, aes(x = mean_pred, y = observed)) +\n",
        "  geom_point(color = \"blue\") +\n",
        "  geom_smooth(method = \"loess\", formula = y ~ x, se = FALSE, color = \"blue\") +\n",
        "  geom_abline(slope = 1, intercept = 0, linetype = \"dashed\") +\n",
        "  labs(x = \"Predicted probability\", y = \"Observed proportion\", title = \"Smoothed Calibration Curve\") +\n",
        "  theme_minimal()\n"
      ]
    },
    {
      "cell_type": "code",
      "execution_count": 29,
      "metadata": {
        "colab": {
          "base_uri": "https://localhost:8080/",
          "height": 437
        },
        "id": "LV_2ZmOs6e4z",
        "outputId": "235a618f-f53a-41ee-a07b-a12ca71c15c8",
        "vscode": {
          "languageId": "r"
        }
      },
      "outputs": [
        {
          "data": {
            "image/png": "[encoded data removed]",
            "text/plain": [
              "plot without title"
            ]
          },
          "metadata": {
            "image/png": {
              "height": 420,
              "width": 420
            }
          },
          "output_type": "display_data"
        }
      ],
      "source": [
        "# Learning Curve\n",
        "train_sizes <- seq(0.1, 1.0, by = 0.1)\n",
        "train_scores <- c()\n",
        "val_scores <- c()\n",
        "\n",
        "set.seed(42)\n",
        "for (s in train_sizes) {\n",
        "  idx <- sample(1:nrow(train_data), size = as.integer(s * nrow(train_data)))\n",
        "  subset <- train_data[idx, ]\n",
        "  model <- svm(label ~ ., data = subset, kernel = \"radial\")\n",
        "\n",
        "  # Explicitly select columns for prediction, excluding 'label'\n",
        "  feature_cols <- setdiff(colnames(test_data), \"label\")\n",
        "  pred_train <- predict(model, subset)\n",
        "  pred_val <- predict(model, test_data[, feature_cols, with=FALSE]) # Modified line\n",
        "\n",
        "  train_scores <- c(train_scores, mean(pred_train == subset$label))\n",
        "  val_scores <- c(val_scores, mean(pred_val == test_data$label))\n",
        "}\n",
        "\n",
        "plot(train_sizes, train_scores, type='l', col='blue', ylim=c(0,1), ylab=\"Accuracy\", xlab=\"Training Size\")\n",
        "lines(train_sizes, val_scores, col='red')\n",
        "legend(\"bottomright\", legend=c(\"Train\", \"Validation\"), col=c(\"blue\", \"red\"), lty=1)"
      ]
    },
    {
      "cell_type": "code",
      "execution_count": 30,
      "metadata": {
        "vscode": {
          "languageId": "r"
        }
      },
      "outputs": [
        {
          "name": "stderr",
          "output_type": "stream",
          "text": [
            "\u001b[1mRows: \u001b[22m\u001b[34m569\u001b[39m \u001b[1mColumns: \u001b[22m\u001b[34m32\u001b[39m\n",
            "\u001b[36m──\u001b[39m \u001b[1mColumn specification\u001b[22m \u001b[36m────────────────────────────────────────────────────────\u001b[39m\n",
            "\u001b[1mDelimiter:\u001b[22m \",\"\n",
            "\u001b[31mchr\u001b[39m  (1): diagnosis\n",
            "\u001b[32mdbl\u001b[39m (31): id, radius_mean, texture_mean, perimeter_mean, area_mean, smoothne...\n",
            "\n",
            "\u001b[36mℹ\u001b[39m Use `spec()` to retrieve the full column specification for this data.\n",
            "\u001b[36mℹ\u001b[39m Specify the column types or set `show_col_types = FALSE` to quiet this message.\n"
          ]
        },
        {
          "name": "stdout",
          "output_type": "stream",
          "text": [
            "Calibrated Accuracy: 0.9380531 \n"
          ]
        },
        {
          "data": {
            "text/plain": [
              "Confusion Matrix and Statistics\n",
              "\n",
              "          Reference\n",
              "Prediction  0  1\n",
              "         0 68  4\n",
              "         1  3 38\n",
              "                                          \n",
              "               Accuracy : 0.9381          \n",
              "                 95% CI : (0.8765, 0.9747)\n",
              "    No Information Rate : 0.6283          \n",
              "    P-Value [Acc > NIR] : 1.718e-14       \n",
              "                                          \n",
              "                  Kappa : 0.8667          \n",
              "                                          \n",
              " Mcnemar's Test P-Value : 1               \n",
              "                                          \n",
              "            Sensitivity : 0.9577          \n",
              "            Specificity : 0.9048          \n",
              "         Pos Pred Value : 0.9444          \n",
              "         Neg Pred Value : 0.9268          \n",
              "             Prevalence : 0.6283          \n",
              "         Detection Rate : 0.6018          \n",
              "   Detection Prevalence : 0.6372          \n",
              "      Balanced Accuracy : 0.9313          \n",
              "                                          \n",
              "       'Positive' Class : 0               \n",
              "                                          "
            ]
          },
          "metadata": {},
          "output_type": "display_data"
        },
        {
          "data": {
            "image/png": "[encoded data removed]",
            "text/plain": [
              "plot without title"
            ]
          },
          "metadata": {
            "image/png": {
              "height": 420,
              "width": 420
            }
          },
          "output_type": "display_data"
        }
      ],
      "source": [
        "# === Thư viện ===\n",
        "library(tidyverse)\n",
        "library(caret)\n",
        "library(ggplot2)\n",
        "library(pROC)\n",
        "library(e1071)           # Cho SVM\n",
        "library(ROCR)\n",
        "library(data.table)\n",
        "library(scales)\n",
        "library(PRROC)\n",
        "library(kernlab)\n",
        "\n",
        "# === Đọc dữ liệu ===\n",
        "df <- read_csv(\"D:/Khang/FPT semester/semester_5/DSR301m/project_assignment/attempt/breast-cancer.csv\")\n",
        "\n",
        "# Đổi tên cột diagnosis thành label\n",
        "df$label <- df$diagnosis\n",
        "df$diagnosis <- NULL\n",
        "\n",
        "# Lựa chọn đặc trưng\n",
        "selected_features <- c(\n",
        "  'radius_mean', 'perimeter_mean', 'compactness_mean', 'area_mean', 'concavity_mean',\n",
        "  'concavity_se', 'perimeter_se',  'radius_worst'\n",
        ")\n",
        "df <- df[, c(selected_features, \"label\")]\n",
        "\n",
        "# Mã hóa nhãn\n",
        "\n",
        "df$label <- as.factor(ifelse(df$label == \"M\", 1, 0))\n",
        "\n",
        "# === Chuẩn hóa ===\n",
        "features_for_scaling = setdiff(colnames(df), \"label\")\n",
        "scaler <- preProcess(df[, features_for_scaling], method = c(\"center\", \"scale\"))\n",
        "df_scaled <- predict(scaler, df)\n",
        "saveRDS(scaler, \"scaler_model.rds\")\n",
        "\n",
        "# === Chia train/test ===\n",
        "set.seed(42)\n",
        "trainIndex <- createDataPartition(df_scaled$label, p = 0.8, list = FALSE)\n",
        "train_data <- df_scaled[trainIndex, ]\n",
        "test_data  <- df_scaled[-trainIndex, ]\n",
        "\n",
        "# === Huấn luyện SVM ===\n",
        "svm_model <- svm(label ~ ., data = train_data, kernel = \"radial\", probability = TRUE)\n",
        "saveRDS(svm_model, \"svm_model.rds\")\n",
        "\n",
        "# === Dự đoán nhãn & decision value ===\n",
        "svm_decision <- predict(svm_model, test_data %>% select(-label), decision.values = TRUE)\n",
        "decision_values <- attr(svm_decision, \"decision.values\")\n",
        "true_labels <- as.numeric(test_data$label == 1)\n",
        "\n",
        "# === Platt scaling ===\n",
        "platt_model <- glm(true_labels ~ decision_values, family = binomial)\n",
        "calibrated_probs <- predict(platt_model, type = \"response\")\n",
        "\n",
        "# === Vẽ Calibration Curve ===\n",
        "calibration_df <- data.frame(\n",
        "  predicted = calibrated_probs,\n",
        "  actual = true_labels\n",
        ")\n",
        "\n",
        "calibration_plot_data <- calibration_df %>%\n",
        "  mutate(bin = cut(predicted, breaks = seq(0, 1, 0.1), include.lowest = TRUE)) %>%\n",
        "  group_by(bin) %>%\n",
        "  summarise(\n",
        "    mean_predicted = mean(predicted),\n",
        "    mean_actual = mean(actual),\n",
        "    .groups = 'drop'\n",
        "  )\n",
        "\n",
        "# Plot\n",
        "calibration_plot <- ggplot(calibration_plot_data, aes(x = mean_predicted, y = mean_actual)) +\n",
        "  geom_line(color = \"blue\") +\n",
        "  geom_point(color = \"blue\", size = 2) +\n",
        "  geom_abline(slope = 1, intercept = 0, linetype = \"dashed\", color = \"gray\") +\n",
        "  labs(title = \"Calibration Curve (Platt Scaling)\",\n",
        "       x = \"Predicted Probability\",\n",
        "       y = \"Observed Proportion\") +\n",
        "  theme_minimal()\n",
        "\n",
        "print(calibration_plot)\n",
        "\n",
        "# === Đánh giá Accuracy ===\n",
        "pred_labels <- ifelse(calibrated_probs > 0.5, 1, 0)\n",
        "accuracy <- mean(pred_labels == true_labels)\n",
        "cat(\"Calibrated Accuracy:\", accuracy, \"\\n\")\n",
        "\n",
        "# === Ma trận nhầm lẫn ===\n",
        "confusionMatrix(as.factor(pred_labels), as.factor(true_labels))\n"
      ]
    }
  ],
  "metadata": {
    "colab": {
      "provenance": []
    },
    "kernelspec": {
      "display_name": "R",
      "language": "R",
      "name": "ir"
    },
    "language_info": {
      "codemirror_mode": "r",
      "file_extension": ".r",
      "mimetype": "text/x-r-source",
      "name": "R",
      "pygments_lexer": "r",
      "version": "4.5.0"
    }
  },
  "nbformat": 4,
  "nbformat_minor": 0
}
