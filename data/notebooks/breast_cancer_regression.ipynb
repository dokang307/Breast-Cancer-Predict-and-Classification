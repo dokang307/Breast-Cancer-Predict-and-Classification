{
  "cells": [
    {
      "cell_type": "code",
      "execution_count": 1,
      "metadata": {
        "colab": {
          "base_uri": "https://localhost:8080/"
        },
        "id": "P1y_zeW1LIEw",
        "outputId": "535448fe-c018-4811-e1c4-7ddabaf2a78c",
        "vscode": {
          "languageId": "r"
        }
      },
      "outputs": [],
      "source": [
        "# %%\n",
        "# Install packages\n",
        "# install.packages(c(\"tidyverse\", \"caret\", \"randomForest\", \"xgboost\", \"Metrics\", \"corrplot\", \"MLmetrics\"))"
      ]
    },
    {
      "cell_type": "code",
      "execution_count": 2,
      "metadata": {
        "id": "3a1VORBEPNEh",
        "vscode": {
          "languageId": "r"
        }
      },
      "outputs": [],
      "source": [
        "# install.packages(\"MLmetrics\")"
      ]
    },
    {
      "cell_type": "code",
      "execution_count": 3,
      "metadata": {
        "colab": {
          "base_uri": "https://localhost:8080/"
        },
        "id": "brll1ExVJORr",
        "outputId": "68748e77-22ee-48f1-d31a-8d1b217a9d61",
        "vscode": {
          "languageId": "r"
        }
      },
      "outputs": [
        {
          "name": "stderr",
          "output_type": "stream",
          "text": [
            "Warning message:\n",
            "\"package 'tidyverse' was built under R version 4.5.1\"\n",
            "Warning message:\n",
            "\"package 'ggplot2' was built under R version 4.5.1\"\n",
            "── \u001b[1mAttaching core tidyverse packages\u001b[22m ──────────────────────── tidyverse 2.0.0 ──\n",
            "\u001b[32m✔\u001b[39m \u001b[34mdplyr    \u001b[39m 1.1.4     \u001b[32m✔\u001b[39m \u001b[34mreadr    \u001b[39m 2.1.5\n",
            "\u001b[32m✔\u001b[39m \u001b[34mforcats  \u001b[39m 1.0.0     \u001b[32m✔\u001b[39m \u001b[34mstringr  \u001b[39m 1.5.1\n",
            "\u001b[32m✔\u001b[39m \u001b[34mggplot2  \u001b[39m 3.5.2     \u001b[32m✔\u001b[39m \u001b[34mtibble   \u001b[39m 3.2.1\n",
            "\u001b[32m✔\u001b[39m \u001b[34mlubridate\u001b[39m 1.9.4     \u001b[32m✔\u001b[39m \u001b[34mtidyr    \u001b[39m 1.3.1\n",
            "\u001b[32m✔\u001b[39m \u001b[34mpurrr    \u001b[39m 1.0.4     \n",
            "── \u001b[1mConflicts\u001b[22m ────────────────────────────────────────── tidyverse_conflicts() ──\n",
            "\u001b[31m✖\u001b[39m \u001b[34mdplyr\u001b[39m::\u001b[32mfilter()\u001b[39m masks \u001b[34mstats\u001b[39m::filter()\n",
            "\u001b[31m✖\u001b[39m \u001b[34mdplyr\u001b[39m::\u001b[32mlag()\u001b[39m    masks \u001b[34mstats\u001b[39m::lag()\n",
            "\u001b[36mℹ\u001b[39m Use the conflicted package (\u001b[3m\u001b[34m<http://conflicted.r-lib.org/>\u001b[39m\u001b[23m) to force all conflicts to become errors\n",
            "Loading required package: lattice\n",
            "\n",
            "\n",
            "Attaching package: 'caret'\n",
            "\n",
            "\n",
            "The following object is masked from 'package:purrr':\n",
            "\n",
            "    lift\n",
            "\n",
            "\n",
            "\n",
            "Attaching package: 'MLmetrics'\n",
            "\n",
            "\n",
            "The following objects are masked from 'package:caret':\n",
            "\n",
            "    MAE, RMSE\n",
            "\n",
            "\n",
            "The following object is masked from 'package:base':\n",
            "\n",
            "    Recall\n",
            "\n",
            "\n",
            "Warning message:\n",
            "\"package 'Metrics' was built under R version 4.5.1\"\n",
            "\n",
            "Attaching package: 'Metrics'\n",
            "\n",
            "\n",
            "The following objects are masked from 'package:caret':\n",
            "\n",
            "    precision, recall\n",
            "\n",
            "\n",
            "\n",
            "Attaching package: 'data.table'\n",
            "\n",
            "\n",
            "The following objects are masked from 'package:lubridate':\n",
            "\n",
            "    hour, isoweek, mday, minute, month, quarter, second, wday, week,\n",
            "    yday, year\n",
            "\n",
            "\n",
            "The following objects are masked from 'package:dplyr':\n",
            "\n",
            "    between, first, last\n",
            "\n",
            "\n",
            "The following object is masked from 'package:purrr':\n",
            "\n",
            "    transpose\n",
            "\n",
            "\n"
          ]
        }
      ],
      "source": [
        "# Import các thư viện\n",
        "library(tidyverse)\n",
        "library(caret)\n",
        "library(e1071)\n",
        "library(MLmetrics)\n",
        "library(Metrics)\n",
        "library(data.table)"
      ]
    },
    {
      "cell_type": "code",
      "execution_count": 4,
      "metadata": {
        "id": "kgnyEBEvJdMf",
        "vscode": {
          "languageId": "r"
        }
      },
      "outputs": [
        {
          "name": "stderr",
          "output_type": "stream",
          "text": [
            "\u001b[1mRows: \u001b[22m\u001b[34m569\u001b[39m \u001b[1mColumns: \u001b[22m\u001b[34m32\u001b[39m\n",
            "\u001b[36m──\u001b[39m \u001b[1mColumn specification\u001b[22m \u001b[36m────────────────────────────────────────────────────────\u001b[39m\n",
            "\u001b[1mDelimiter:\u001b[22m \",\"\n",
            "\u001b[31mchr\u001b[39m  (1): diagnosis\n",
            "\u001b[32mdbl\u001b[39m (31): id, radius_mean, texture_mean, perimeter_mean, area_mean, smoothne...\n",
            "\n",
            "\u001b[36mℹ\u001b[39m Use `spec()` to retrieve the full column specification for this data.\n",
            "\u001b[36mℹ\u001b[39m Specify the column types or set `show_col_types = FALSE` to quiet this message.\n"
          ]
        }
      ],
      "source": [
        "# Đọc dữ liệu\n",
        "df <- read_csv(\"D:/Khang/FPT semester/semester_5/DSR301m/project_assignment/attempt/breast-cancer.csv\")"
      ]
    },
    {
      "cell_type": "code",
      "execution_count": 5,
      "metadata": {
        "colab": {
          "base_uri": "https://localhost:8080/",
          "height": 306
        },
        "id": "3DFwgnA3PcB0",
        "outputId": "3ce52b4e-1c91-4509-d3f7-5b046bcdd142",
        "vscode": {
          "languageId": "r"
        }
      },
      "outputs": [
        {
          "data": {
            "text/html": [
              "<table class=\"dataframe\">\n",
              "<caption>A tibble: 6 × 32</caption>\n",
              "<thead>\n",
              "\t<tr><th scope=col>id</th><th scope=col>diagnosis</th><th scope=col>radius_mean</th><th scope=col>texture_mean</th><th scope=col>perimeter_mean</th><th scope=col>area_mean</th><th scope=col>smoothness_mean</th><th scope=col>compactness_mean</th><th scope=col>concavity_mean</th><th scope=col>concave_points_mean</th><th scope=col>⋯</th><th scope=col>radius_worst</th><th scope=col>texture_worst</th><th scope=col>perimeter_worst</th><th scope=col>area_worst</th><th scope=col>smoothness_worst</th><th scope=col>compactness_worst</th><th scope=col>concavity_worst</th><th scope=col>concave_points_worst</th><th scope=col>symmetry_worst</th><th scope=col>fractal_dimension_worst</th></tr>\n",
              "\t<tr><th scope=col>&lt;dbl&gt;</th><th scope=col>&lt;chr&gt;</th><th scope=col>&lt;dbl&gt;</th><th scope=col>&lt;dbl&gt;</th><th scope=col>&lt;dbl&gt;</th><th scope=col>&lt;dbl&gt;</th><th scope=col>&lt;dbl&gt;</th><th scope=col>&lt;dbl&gt;</th><th scope=col>&lt;dbl&gt;</th><th scope=col>&lt;dbl&gt;</th><th scope=col>⋯</th><th scope=col>&lt;dbl&gt;</th><th scope=col>&lt;dbl&gt;</th><th scope=col>&lt;dbl&gt;</th><th scope=col>&lt;dbl&gt;</th><th scope=col>&lt;dbl&gt;</th><th scope=col>&lt;dbl&gt;</th><th scope=col>&lt;dbl&gt;</th><th scope=col>&lt;dbl&gt;</th><th scope=col>&lt;dbl&gt;</th><th scope=col>&lt;dbl&gt;</th></tr>\n",
              "</thead>\n",
              "<tbody>\n",
              "\t<tr><td>  842302</td><td>M</td><td>17.99</td><td>10.38</td><td>122.80</td><td>1001.0</td><td>0.11840</td><td>0.27760</td><td>0.3001</td><td>0.14710</td><td>⋯</td><td>25.38</td><td>17.33</td><td>184.60</td><td>2019.0</td><td>0.1622</td><td>0.6656</td><td>0.7119</td><td>0.2654</td><td>0.4601</td><td>0.11890</td></tr>\n",
              "\t<tr><td>  842517</td><td>M</td><td>20.57</td><td>17.77</td><td>132.90</td><td>1326.0</td><td>0.08474</td><td>0.07864</td><td>0.0869</td><td>0.07017</td><td>⋯</td><td>24.99</td><td>23.41</td><td>158.80</td><td>1956.0</td><td>0.1238</td><td>0.1866</td><td>0.2416</td><td>0.1860</td><td>0.2750</td><td>0.08902</td></tr>\n",
              "\t<tr><td>84300903</td><td>M</td><td>19.69</td><td>21.25</td><td>130.00</td><td>1203.0</td><td>0.10960</td><td>0.15990</td><td>0.1974</td><td>0.12790</td><td>⋯</td><td>23.57</td><td>25.53</td><td>152.50</td><td>1709.0</td><td>0.1444</td><td>0.4245</td><td>0.4504</td><td>0.2430</td><td>0.3613</td><td>0.08758</td></tr>\n",
              "\t<tr><td>84348301</td><td>M</td><td>11.42</td><td>20.38</td><td> 77.58</td><td> 386.1</td><td>0.14250</td><td>0.28390</td><td>0.2414</td><td>0.10520</td><td>⋯</td><td>14.91</td><td>26.50</td><td> 98.87</td><td> 567.7</td><td>0.2098</td><td>0.8663</td><td>0.6869</td><td>0.2575</td><td>0.6638</td><td>0.17300</td></tr>\n",
              "\t<tr><td>84358402</td><td>M</td><td>20.29</td><td>14.34</td><td>135.10</td><td>1297.0</td><td>0.10030</td><td>0.13280</td><td>0.1980</td><td>0.10430</td><td>⋯</td><td>22.54</td><td>16.67</td><td>152.20</td><td>1575.0</td><td>0.1374</td><td>0.2050</td><td>0.4000</td><td>0.1625</td><td>0.2364</td><td>0.07678</td></tr>\n",
              "\t<tr><td>  843786</td><td>M</td><td>12.45</td><td>15.70</td><td> 82.57</td><td> 477.1</td><td>0.12780</td><td>0.17000</td><td>0.1578</td><td>0.08089</td><td>⋯</td><td>15.47</td><td>23.75</td><td>103.40</td><td> 741.6</td><td>0.1791</td><td>0.5249</td><td>0.5355</td><td>0.1741</td><td>0.3985</td><td>0.12440</td></tr>\n",
              "</tbody>\n",
              "</table>\n"
            ],
            "text/latex": [
              "A tibble: 6 × 32\n",
              "\\begin{tabular}{lllllllllllllllllllll}\n",
              " id & diagnosis & radius\\_mean & texture\\_mean & perimeter\\_mean & area\\_mean & smoothness\\_mean & compactness\\_mean & concavity\\_mean & concave\\_points\\_mean & ⋯ & radius\\_worst & texture\\_worst & perimeter\\_worst & area\\_worst & smoothness\\_worst & compactness\\_worst & concavity\\_worst & concave\\_points\\_worst & symmetry\\_worst & fractal\\_dimension\\_worst\\\\\n",
              " <dbl> & <chr> & <dbl> & <dbl> & <dbl> & <dbl> & <dbl> & <dbl> & <dbl> & <dbl> & ⋯ & <dbl> & <dbl> & <dbl> & <dbl> & <dbl> & <dbl> & <dbl> & <dbl> & <dbl> & <dbl>\\\\\n",
              "\\hline\n",
              "\t   842302 & M & 17.99 & 10.38 & 122.80 & 1001.0 & 0.11840 & 0.27760 & 0.3001 & 0.14710 & ⋯ & 25.38 & 17.33 & 184.60 & 2019.0 & 0.1622 & 0.6656 & 0.7119 & 0.2654 & 0.4601 & 0.11890\\\\\n",
              "\t   842517 & M & 20.57 & 17.77 & 132.90 & 1326.0 & 0.08474 & 0.07864 & 0.0869 & 0.07017 & ⋯ & 24.99 & 23.41 & 158.80 & 1956.0 & 0.1238 & 0.1866 & 0.2416 & 0.1860 & 0.2750 & 0.08902\\\\\n",
              "\t 84300903 & M & 19.69 & 21.25 & 130.00 & 1203.0 & 0.10960 & 0.15990 & 0.1974 & 0.12790 & ⋯ & 23.57 & 25.53 & 152.50 & 1709.0 & 0.1444 & 0.4245 & 0.4504 & 0.2430 & 0.3613 & 0.08758\\\\\n",
              "\t 84348301 & M & 11.42 & 20.38 &  77.58 &  386.1 & 0.14250 & 0.28390 & 0.2414 & 0.10520 & ⋯ & 14.91 & 26.50 &  98.87 &  567.7 & 0.2098 & 0.8663 & 0.6869 & 0.2575 & 0.6638 & 0.17300\\\\\n",
              "\t 84358402 & M & 20.29 & 14.34 & 135.10 & 1297.0 & 0.10030 & 0.13280 & 0.1980 & 0.10430 & ⋯ & 22.54 & 16.67 & 152.20 & 1575.0 & 0.1374 & 0.2050 & 0.4000 & 0.1625 & 0.2364 & 0.07678\\\\\n",
              "\t   843786 & M & 12.45 & 15.70 &  82.57 &  477.1 & 0.12780 & 0.17000 & 0.1578 & 0.08089 & ⋯ & 15.47 & 23.75 & 103.40 &  741.6 & 0.1791 & 0.5249 & 0.5355 & 0.1741 & 0.3985 & 0.12440\\\\\n",
              "\\end{tabular}\n"
            ],
            "text/markdown": [
              "\n",
              "A tibble: 6 × 32\n",
              "\n",
              "| id &lt;dbl&gt; | diagnosis &lt;chr&gt; | radius_mean &lt;dbl&gt; | texture_mean &lt;dbl&gt; | perimeter_mean &lt;dbl&gt; | area_mean &lt;dbl&gt; | smoothness_mean &lt;dbl&gt; | compactness_mean &lt;dbl&gt; | concavity_mean &lt;dbl&gt; | concave_points_mean &lt;dbl&gt; | ⋯ ⋯ | radius_worst &lt;dbl&gt; | texture_worst &lt;dbl&gt; | perimeter_worst &lt;dbl&gt; | area_worst &lt;dbl&gt; | smoothness_worst &lt;dbl&gt; | compactness_worst &lt;dbl&gt; | concavity_worst &lt;dbl&gt; | concave_points_worst &lt;dbl&gt; | symmetry_worst &lt;dbl&gt; | fractal_dimension_worst &lt;dbl&gt; |\n",
              "|---|---|---|---|---|---|---|---|---|---|---|---|---|---|---|---|---|---|---|---|---|\n",
              "|   842302 | M | 17.99 | 10.38 | 122.80 | 1001.0 | 0.11840 | 0.27760 | 0.3001 | 0.14710 | ⋯ | 25.38 | 17.33 | 184.60 | 2019.0 | 0.1622 | 0.6656 | 0.7119 | 0.2654 | 0.4601 | 0.11890 |\n",
              "|   842517 | M | 20.57 | 17.77 | 132.90 | 1326.0 | 0.08474 | 0.07864 | 0.0869 | 0.07017 | ⋯ | 24.99 | 23.41 | 158.80 | 1956.0 | 0.1238 | 0.1866 | 0.2416 | 0.1860 | 0.2750 | 0.08902 |\n",
              "| 84300903 | M | 19.69 | 21.25 | 130.00 | 1203.0 | 0.10960 | 0.15990 | 0.1974 | 0.12790 | ⋯ | 23.57 | 25.53 | 152.50 | 1709.0 | 0.1444 | 0.4245 | 0.4504 | 0.2430 | 0.3613 | 0.08758 |\n",
              "| 84348301 | M | 11.42 | 20.38 |  77.58 |  386.1 | 0.14250 | 0.28390 | 0.2414 | 0.10520 | ⋯ | 14.91 | 26.50 |  98.87 |  567.7 | 0.2098 | 0.8663 | 0.6869 | 0.2575 | 0.6638 | 0.17300 |\n",
              "| 84358402 | M | 20.29 | 14.34 | 135.10 | 1297.0 | 0.10030 | 0.13280 | 0.1980 | 0.10430 | ⋯ | 22.54 | 16.67 | 152.20 | 1575.0 | 0.1374 | 0.2050 | 0.4000 | 0.1625 | 0.2364 | 0.07678 |\n",
              "|   843786 | M | 12.45 | 15.70 |  82.57 |  477.1 | 0.12780 | 0.17000 | 0.1578 | 0.08089 | ⋯ | 15.47 | 23.75 | 103.40 |  741.6 | 0.1791 | 0.5249 | 0.5355 | 0.1741 | 0.3985 | 0.12440 |\n",
              "\n"
            ],
            "text/plain": [
              "  id       diagnosis radius_mean texture_mean perimeter_mean area_mean\n",
              "1   842302 M         17.99       10.38        122.80         1001.0   \n",
              "2   842517 M         20.57       17.77        132.90         1326.0   \n",
              "3 84300903 M         19.69       21.25        130.00         1203.0   \n",
              "4 84348301 M         11.42       20.38         77.58          386.1   \n",
              "5 84358402 M         20.29       14.34        135.10         1297.0   \n",
              "6   843786 M         12.45       15.70         82.57          477.1   \n",
              "  smoothness_mean compactness_mean concavity_mean concave_points_mean ⋯\n",
              "1 0.11840         0.27760          0.3001         0.14710             ⋯\n",
              "2 0.08474         0.07864          0.0869         0.07017             ⋯\n",
              "3 0.10960         0.15990          0.1974         0.12790             ⋯\n",
              "4 0.14250         0.28390          0.2414         0.10520             ⋯\n",
              "5 0.10030         0.13280          0.1980         0.10430             ⋯\n",
              "6 0.12780         0.17000          0.1578         0.08089             ⋯\n",
              "  radius_worst texture_worst perimeter_worst area_worst smoothness_worst\n",
              "1 25.38        17.33         184.60          2019.0     0.1622          \n",
              "2 24.99        23.41         158.80          1956.0     0.1238          \n",
              "3 23.57        25.53         152.50          1709.0     0.1444          \n",
              "4 14.91        26.50          98.87           567.7     0.2098          \n",
              "5 22.54        16.67         152.20          1575.0     0.1374          \n",
              "6 15.47        23.75         103.40           741.6     0.1791          \n",
              "  compactness_worst concavity_worst concave_points_worst symmetry_worst\n",
              "1 0.6656            0.7119          0.2654               0.4601        \n",
              "2 0.1866            0.2416          0.1860               0.2750        \n",
              "3 0.4245            0.4504          0.2430               0.3613        \n",
              "4 0.8663            0.6869          0.2575               0.6638        \n",
              "5 0.2050            0.4000          0.1625               0.2364        \n",
              "6 0.5249            0.5355          0.1741               0.3985        \n",
              "  fractal_dimension_worst\n",
              "1 0.11890                \n",
              "2 0.08902                \n",
              "3 0.08758                \n",
              "4 0.17300                \n",
              "5 0.07678                \n",
              "6 0.12440                "
            ]
          },
          "metadata": {},
          "output_type": "display_data"
        }
      ],
      "source": [
        "# Hiển thị dữ liệu đầu\n",
        "head(df)"
      ]
    },
    {
      "cell_type": "code",
      "execution_count": 6,
      "metadata": {
        "colab": {
          "base_uri": "https://localhost:8080/"
        },
        "id": "9mDetmfcPeMj",
        "outputId": "374d452f-ff45-4e91-8e22-3d6de90c9f6b",
        "vscode": {
          "languageId": "r"
        }
      },
      "outputs": [
        {
          "name": "stdout",
          "output_type": "stream",
          "text": [
            "spc_tbl_ [569 × 32] (S3: spec_tbl_df/tbl_df/tbl/data.frame)\n",
            " $ id                     : num [1:569] 842302 842517 84300903 84348301 84358402 ...\n",
            " $ diagnosis              : chr [1:569] \"M\" \"M\" \"M\" \"M\" ...\n",
            " $ radius_mean            : num [1:569] 18 20.6 19.7 11.4 20.3 ...\n",
            " $ texture_mean           : num [1:569] 10.4 17.8 21.2 20.4 14.3 ...\n",
            " $ perimeter_mean         : num [1:569] 122.8 132.9 130 77.6 135.1 ...\n",
            " $ area_mean              : num [1:569] 1001 1326 1203 386 1297 ...\n",
            " $ smoothness_mean        : num [1:569] 0.1184 0.0847 0.1096 0.1425 0.1003 ...\n",
            " $ compactness_mean       : num [1:569] 0.2776 0.0786 0.1599 0.2839 0.1328 ...\n",
            " $ concavity_mean         : num [1:569] 0.3001 0.0869 0.1974 0.2414 0.198 ...\n",
            " $ concave_points_mean    : num [1:569] 0.1471 0.0702 0.1279 0.1052 0.1043 ...\n",
            " $ symmetry_mean          : num [1:569] 0.242 0.181 0.207 0.26 0.181 ...\n",
            " $ fractal_dimension_mean : num [1:569] 0.0787 0.0567 0.06 0.0974 0.0588 ...\n",
            " $ radius_se              : num [1:569] 1.095 0.543 0.746 0.496 0.757 ...\n",
            " $ texture_se             : num [1:569] 0.905 0.734 0.787 1.156 0.781 ...\n",
            " $ perimeter_se           : num [1:569] 8.59 3.4 4.58 3.44 5.44 ...\n",
            " $ area_se                : num [1:569] 153.4 74.1 94 27.2 94.4 ...\n",
            " $ smoothness_se          : num [1:569] 0.0064 0.00522 0.00615 0.00911 0.01149 ...\n",
            " $ compactness_se         : num [1:569] 0.049 0.0131 0.0401 0.0746 0.0246 ...\n",
            " $ concavity_se           : num [1:569] 0.0537 0.0186 0.0383 0.0566 0.0569 ...\n",
            " $ concave_points_se      : num [1:569] 0.0159 0.0134 0.0206 0.0187 0.0188 ...\n",
            " $ symmetry_se            : num [1:569] 0.03 0.0139 0.0225 0.0596 0.0176 ...\n",
            " $ fractal_dimension_se   : num [1:569] 0.00619 0.00353 0.00457 0.00921 0.00511 ...\n",
            " $ radius_worst           : num [1:569] 25.4 25 23.6 14.9 22.5 ...\n",
            " $ texture_worst          : num [1:569] 17.3 23.4 25.5 26.5 16.7 ...\n",
            " $ perimeter_worst        : num [1:569] 184.6 158.8 152.5 98.9 152.2 ...\n",
            " $ area_worst             : num [1:569] 2019 1956 1709 568 1575 ...\n",
            " $ smoothness_worst       : num [1:569] 0.162 0.124 0.144 0.21 0.137 ...\n",
            " $ compactness_worst      : num [1:569] 0.666 0.187 0.424 0.866 0.205 ...\n",
            " $ concavity_worst        : num [1:569] 0.712 0.242 0.45 0.687 0.4 ...\n",
            " $ concave_points_worst   : num [1:569] 0.265 0.186 0.243 0.258 0.163 ...\n",
            " $ symmetry_worst         : num [1:569] 0.46 0.275 0.361 0.664 0.236 ...\n",
            " $ fractal_dimension_worst: num [1:569] 0.1189 0.089 0.0876 0.173 0.0768 ...\n",
            " - attr(*, \"spec\")=\n",
            "  .. cols(\n",
            "  ..   id = \u001b[32mcol_double()\u001b[39m,\n",
            "  ..   diagnosis = \u001b[31mcol_character()\u001b[39m,\n",
            "  ..   radius_mean = \u001b[32mcol_double()\u001b[39m,\n",
            "  ..   texture_mean = \u001b[32mcol_double()\u001b[39m,\n",
            "  ..   perimeter_mean = \u001b[32mcol_double()\u001b[39m,\n",
            "  ..   area_mean = \u001b[32mcol_double()\u001b[39m,\n",
            "  ..   smoothness_mean = \u001b[32mcol_double()\u001b[39m,\n",
            "  ..   compactness_mean = \u001b[32mcol_double()\u001b[39m,\n",
            "  ..   concavity_mean = \u001b[32mcol_double()\u001b[39m,\n",
            "  ..   concave_points_mean = \u001b[32mcol_double()\u001b[39m,\n",
            "  ..   symmetry_mean = \u001b[32mcol_double()\u001b[39m,\n",
            "  ..   fractal_dimension_mean = \u001b[32mcol_double()\u001b[39m,\n",
            "  ..   radius_se = \u001b[32mcol_double()\u001b[39m,\n",
            "  ..   texture_se = \u001b[32mcol_double()\u001b[39m,\n",
            "  ..   perimeter_se = \u001b[32mcol_double()\u001b[39m,\n",
            "  ..   area_se = \u001b[32mcol_double()\u001b[39m,\n",
            "  ..   smoothness_se = \u001b[32mcol_double()\u001b[39m,\n",
            "  ..   compactness_se = \u001b[32mcol_double()\u001b[39m,\n",
            "  ..   concavity_se = \u001b[32mcol_double()\u001b[39m,\n",
            "  ..   concave_points_se = \u001b[32mcol_double()\u001b[39m,\n",
            "  ..   symmetry_se = \u001b[32mcol_double()\u001b[39m,\n",
            "  ..   fractal_dimension_se = \u001b[32mcol_double()\u001b[39m,\n",
            "  ..   radius_worst = \u001b[32mcol_double()\u001b[39m,\n",
            "  ..   texture_worst = \u001b[32mcol_double()\u001b[39m,\n",
            "  ..   perimeter_worst = \u001b[32mcol_double()\u001b[39m,\n",
            "  ..   area_worst = \u001b[32mcol_double()\u001b[39m,\n",
            "  ..   smoothness_worst = \u001b[32mcol_double()\u001b[39m,\n",
            "  ..   compactness_worst = \u001b[32mcol_double()\u001b[39m,\n",
            "  ..   concavity_worst = \u001b[32mcol_double()\u001b[39m,\n",
            "  ..   concave_points_worst = \u001b[32mcol_double()\u001b[39m,\n",
            "  ..   symmetry_worst = \u001b[32mcol_double()\u001b[39m,\n",
            "  ..   fractal_dimension_worst = \u001b[32mcol_double()\u001b[39m\n",
            "  .. )\n",
            " - attr(*, \"problems\")=<externalptr> \n",
            "NULL\n"
          ]
        }
      ],
      "source": [
        "# Thông tin tổng quan\n",
        "print(str(df))"
      ]
    },
    {
      "cell_type": "code",
      "execution_count": 7,
      "metadata": {
        "colab": {
          "base_uri": "https://localhost:8080/"
        },
        "id": "Cjcf8qlYPfwi",
        "outputId": "749a7ec8-0fa7-4bbe-e645-b412873a47f5",
        "vscode": {
          "languageId": "r"
        }
      },
      "outputs": [
        {
          "name": "stdout",
          "output_type": "stream",
          "text": [
            "                     id               diagnosis             radius_mean \n",
            "                      0                       0                       0 \n",
            "           texture_mean          perimeter_mean               area_mean \n",
            "                      0                       0                       0 \n",
            "        smoothness_mean        compactness_mean          concavity_mean \n",
            "                      0                       0                       0 \n",
            "    concave_points_mean           symmetry_mean  fractal_dimension_mean \n",
            "                      0                       0                       0 \n",
            "              radius_se              texture_se            perimeter_se \n",
            "                      0                       0                       0 \n",
            "                area_se           smoothness_se          compactness_se \n",
            "                      0                       0                       0 \n",
            "           concavity_se       concave_points_se             symmetry_se \n",
            "                      0                       0                       0 \n",
            "   fractal_dimension_se            radius_worst           texture_worst \n",
            "                      0                       0                       0 \n",
            "        perimeter_worst              area_worst        smoothness_worst \n",
            "                      0                       0                       0 \n",
            "      compactness_worst         concavity_worst    concave_points_worst \n",
            "                      0                       0                       0 \n",
            "         symmetry_worst fractal_dimension_worst \n",
            "                      0                       0 \n"
          ]
        }
      ],
      "source": [
        "# Kiểm tra giá trị bị thiếu\n",
        "print(colSums(is.na(df)))"
      ]
    },
    {
      "cell_type": "code",
      "execution_count": 8,
      "metadata": {
        "colab": {
          "base_uri": "https://localhost:8080/",
          "height": 575
        },
        "id": "pCRMJQWUJiaW",
        "outputId": "b0d616c4-45a4-4062-ad58-8740e7ba85ec",
        "vscode": {
          "languageId": "r"
        }
      },
      "outputs": [
        {
          "data": {
            "text/html": [
              "<table class=\"dataframe\">\n",
              "<caption>A tibble: 6 × 32</caption>\n",
              "<thead>\n",
              "\t<tr><th scope=col>id</th><th scope=col>diagnosis</th><th scope=col>texture_mean</th><th scope=col>perimeter_mean</th><th scope=col>area_mean</th><th scope=col>smoothness_mean</th><th scope=col>compactness_mean</th><th scope=col>concavity_mean</th><th scope=col>concave_points_mean</th><th scope=col>symmetry_mean</th><th scope=col>⋯</th><th scope=col>texture_worst</th><th scope=col>perimeter_worst</th><th scope=col>area_worst</th><th scope=col>smoothness_worst</th><th scope=col>compactness_worst</th><th scope=col>concavity_worst</th><th scope=col>concave_points_worst</th><th scope=col>symmetry_worst</th><th scope=col>fractal_dimension_worst</th><th scope=col>radius_mean_target</th></tr>\n",
              "\t<tr><th scope=col>&lt;dbl&gt;</th><th scope=col>&lt;chr&gt;</th><th scope=col>&lt;dbl&gt;</th><th scope=col>&lt;dbl&gt;</th><th scope=col>&lt;dbl&gt;</th><th scope=col>&lt;dbl&gt;</th><th scope=col>&lt;dbl&gt;</th><th scope=col>&lt;dbl&gt;</th><th scope=col>&lt;dbl&gt;</th><th scope=col>&lt;dbl&gt;</th><th scope=col>⋯</th><th scope=col>&lt;dbl&gt;</th><th scope=col>&lt;dbl&gt;</th><th scope=col>&lt;dbl&gt;</th><th scope=col>&lt;dbl&gt;</th><th scope=col>&lt;dbl&gt;</th><th scope=col>&lt;dbl&gt;</th><th scope=col>&lt;dbl&gt;</th><th scope=col>&lt;dbl&gt;</th><th scope=col>&lt;dbl&gt;</th><th scope=col>&lt;dbl&gt;</th></tr>\n",
              "</thead>\n",
              "<tbody>\n",
              "\t<tr><td>  842302</td><td>M</td><td>10.38</td><td>122.80</td><td>1001.0</td><td>0.11840</td><td>0.27760</td><td>0.3001</td><td>0.14710</td><td>0.2419</td><td>⋯</td><td>17.33</td><td>184.60</td><td>2019.0</td><td>0.1622</td><td>0.6656</td><td>0.7119</td><td>0.2654</td><td>0.4601</td><td>0.11890</td><td>17.99</td></tr>\n",
              "\t<tr><td>  842517</td><td>M</td><td>17.77</td><td>132.90</td><td>1326.0</td><td>0.08474</td><td>0.07864</td><td>0.0869</td><td>0.07017</td><td>0.1812</td><td>⋯</td><td>23.41</td><td>158.80</td><td>1956.0</td><td>0.1238</td><td>0.1866</td><td>0.2416</td><td>0.1860</td><td>0.2750</td><td>0.08902</td><td>20.57</td></tr>\n",
              "\t<tr><td>84300903</td><td>M</td><td>21.25</td><td>130.00</td><td>1203.0</td><td>0.10960</td><td>0.15990</td><td>0.1974</td><td>0.12790</td><td>0.2069</td><td>⋯</td><td>25.53</td><td>152.50</td><td>1709.0</td><td>0.1444</td><td>0.4245</td><td>0.4504</td><td>0.2430</td><td>0.3613</td><td>0.08758</td><td>19.69</td></tr>\n",
              "\t<tr><td>84348301</td><td>M</td><td>20.38</td><td> 77.58</td><td> 386.1</td><td>0.14250</td><td>0.28390</td><td>0.2414</td><td>0.10520</td><td>0.2597</td><td>⋯</td><td>26.50</td><td> 98.87</td><td> 567.7</td><td>0.2098</td><td>0.8663</td><td>0.6869</td><td>0.2575</td><td>0.6638</td><td>0.17300</td><td>11.42</td></tr>\n",
              "\t<tr><td>84358402</td><td>M</td><td>14.34</td><td>135.10</td><td>1297.0</td><td>0.10030</td><td>0.13280</td><td>0.1980</td><td>0.10430</td><td>0.1809</td><td>⋯</td><td>16.67</td><td>152.20</td><td>1575.0</td><td>0.1374</td><td>0.2050</td><td>0.4000</td><td>0.1625</td><td>0.2364</td><td>0.07678</td><td>20.29</td></tr>\n",
              "\t<tr><td>  843786</td><td>M</td><td>15.70</td><td> 82.57</td><td> 477.1</td><td>0.12780</td><td>0.17000</td><td>0.1578</td><td>0.08089</td><td>0.2087</td><td>⋯</td><td>23.75</td><td>103.40</td><td> 741.6</td><td>0.1791</td><td>0.5249</td><td>0.5355</td><td>0.1741</td><td>0.3985</td><td>0.12440</td><td>12.45</td></tr>\n",
              "</tbody>\n",
              "</table>\n"
            ],
            "text/latex": [
              "A tibble: 6 × 32\n",
              "\\begin{tabular}{lllllllllllllllllllll}\n",
              " id & diagnosis & texture\\_mean & perimeter\\_mean & area\\_mean & smoothness\\_mean & compactness\\_mean & concavity\\_mean & concave\\_points\\_mean & symmetry\\_mean & ⋯ & texture\\_worst & perimeter\\_worst & area\\_worst & smoothness\\_worst & compactness\\_worst & concavity\\_worst & concave\\_points\\_worst & symmetry\\_worst & fractal\\_dimension\\_worst & radius\\_mean\\_target\\\\\n",
              " <dbl> & <chr> & <dbl> & <dbl> & <dbl> & <dbl> & <dbl> & <dbl> & <dbl> & <dbl> & ⋯ & <dbl> & <dbl> & <dbl> & <dbl> & <dbl> & <dbl> & <dbl> & <dbl> & <dbl> & <dbl>\\\\\n",
              "\\hline\n",
              "\t   842302 & M & 10.38 & 122.80 & 1001.0 & 0.11840 & 0.27760 & 0.3001 & 0.14710 & 0.2419 & ⋯ & 17.33 & 184.60 & 2019.0 & 0.1622 & 0.6656 & 0.7119 & 0.2654 & 0.4601 & 0.11890 & 17.99\\\\\n",
              "\t   842517 & M & 17.77 & 132.90 & 1326.0 & 0.08474 & 0.07864 & 0.0869 & 0.07017 & 0.1812 & ⋯ & 23.41 & 158.80 & 1956.0 & 0.1238 & 0.1866 & 0.2416 & 0.1860 & 0.2750 & 0.08902 & 20.57\\\\\n",
              "\t 84300903 & M & 21.25 & 130.00 & 1203.0 & 0.10960 & 0.15990 & 0.1974 & 0.12790 & 0.2069 & ⋯ & 25.53 & 152.50 & 1709.0 & 0.1444 & 0.4245 & 0.4504 & 0.2430 & 0.3613 & 0.08758 & 19.69\\\\\n",
              "\t 84348301 & M & 20.38 &  77.58 &  386.1 & 0.14250 & 0.28390 & 0.2414 & 0.10520 & 0.2597 & ⋯ & 26.50 &  98.87 &  567.7 & 0.2098 & 0.8663 & 0.6869 & 0.2575 & 0.6638 & 0.17300 & 11.42\\\\\n",
              "\t 84358402 & M & 14.34 & 135.10 & 1297.0 & 0.10030 & 0.13280 & 0.1980 & 0.10430 & 0.1809 & ⋯ & 16.67 & 152.20 & 1575.0 & 0.1374 & 0.2050 & 0.4000 & 0.1625 & 0.2364 & 0.07678 & 20.29\\\\\n",
              "\t   843786 & M & 15.70 &  82.57 &  477.1 & 0.12780 & 0.17000 & 0.1578 & 0.08089 & 0.2087 & ⋯ & 23.75 & 103.40 &  741.6 & 0.1791 & 0.5249 & 0.5355 & 0.1741 & 0.3985 & 0.12440 & 12.45\\\\\n",
              "\\end{tabular}\n"
            ],
            "text/markdown": [
              "\n",
              "A tibble: 6 × 32\n",
              "\n",
              "| id &lt;dbl&gt; | diagnosis &lt;chr&gt; | texture_mean &lt;dbl&gt; | perimeter_mean &lt;dbl&gt; | area_mean &lt;dbl&gt; | smoothness_mean &lt;dbl&gt; | compactness_mean &lt;dbl&gt; | concavity_mean &lt;dbl&gt; | concave_points_mean &lt;dbl&gt; | symmetry_mean &lt;dbl&gt; | ⋯ ⋯ | texture_worst &lt;dbl&gt; | perimeter_worst &lt;dbl&gt; | area_worst &lt;dbl&gt; | smoothness_worst &lt;dbl&gt; | compactness_worst &lt;dbl&gt; | concavity_worst &lt;dbl&gt; | concave_points_worst &lt;dbl&gt; | symmetry_worst &lt;dbl&gt; | fractal_dimension_worst &lt;dbl&gt; | radius_mean_target &lt;dbl&gt; |\n",
              "|---|---|---|---|---|---|---|---|---|---|---|---|---|---|---|---|---|---|---|---|---|\n",
              "|   842302 | M | 10.38 | 122.80 | 1001.0 | 0.11840 | 0.27760 | 0.3001 | 0.14710 | 0.2419 | ⋯ | 17.33 | 184.60 | 2019.0 | 0.1622 | 0.6656 | 0.7119 | 0.2654 | 0.4601 | 0.11890 | 17.99 |\n",
              "|   842517 | M | 17.77 | 132.90 | 1326.0 | 0.08474 | 0.07864 | 0.0869 | 0.07017 | 0.1812 | ⋯ | 23.41 | 158.80 | 1956.0 | 0.1238 | 0.1866 | 0.2416 | 0.1860 | 0.2750 | 0.08902 | 20.57 |\n",
              "| 84300903 | M | 21.25 | 130.00 | 1203.0 | 0.10960 | 0.15990 | 0.1974 | 0.12790 | 0.2069 | ⋯ | 25.53 | 152.50 | 1709.0 | 0.1444 | 0.4245 | 0.4504 | 0.2430 | 0.3613 | 0.08758 | 19.69 |\n",
              "| 84348301 | M | 20.38 |  77.58 |  386.1 | 0.14250 | 0.28390 | 0.2414 | 0.10520 | 0.2597 | ⋯ | 26.50 |  98.87 |  567.7 | 0.2098 | 0.8663 | 0.6869 | 0.2575 | 0.6638 | 0.17300 | 11.42 |\n",
              "| 84358402 | M | 14.34 | 135.10 | 1297.0 | 0.10030 | 0.13280 | 0.1980 | 0.10430 | 0.1809 | ⋯ | 16.67 | 152.20 | 1575.0 | 0.1374 | 0.2050 | 0.4000 | 0.1625 | 0.2364 | 0.07678 | 20.29 |\n",
              "|   843786 | M | 15.70 |  82.57 |  477.1 | 0.12780 | 0.17000 | 0.1578 | 0.08089 | 0.2087 | ⋯ | 23.75 | 103.40 |  741.6 | 0.1791 | 0.5249 | 0.5355 | 0.1741 | 0.3985 | 0.12440 | 12.45 |\n",
              "\n"
            ],
            "text/plain": [
              "  id       diagnosis texture_mean perimeter_mean area_mean smoothness_mean\n",
              "1   842302 M         10.38        122.80         1001.0    0.11840        \n",
              "2   842517 M         17.77        132.90         1326.0    0.08474        \n",
              "3 84300903 M         21.25        130.00         1203.0    0.10960        \n",
              "4 84348301 M         20.38         77.58          386.1    0.14250        \n",
              "5 84358402 M         14.34        135.10         1297.0    0.10030        \n",
              "6   843786 M         15.70         82.57          477.1    0.12780        \n",
              "  compactness_mean concavity_mean concave_points_mean symmetry_mean ⋯\n",
              "1 0.27760          0.3001         0.14710             0.2419        ⋯\n",
              "2 0.07864          0.0869         0.07017             0.1812        ⋯\n",
              "3 0.15990          0.1974         0.12790             0.2069        ⋯\n",
              "4 0.28390          0.2414         0.10520             0.2597        ⋯\n",
              "5 0.13280          0.1980         0.10430             0.1809        ⋯\n",
              "6 0.17000          0.1578         0.08089             0.2087        ⋯\n",
              "  texture_worst perimeter_worst area_worst smoothness_worst compactness_worst\n",
              "1 17.33         184.60          2019.0     0.1622           0.6656           \n",
              "2 23.41         158.80          1956.0     0.1238           0.1866           \n",
              "3 25.53         152.50          1709.0     0.1444           0.4245           \n",
              "4 26.50          98.87           567.7     0.2098           0.8663           \n",
              "5 16.67         152.20          1575.0     0.1374           0.2050           \n",
              "6 23.75         103.40           741.6     0.1791           0.5249           \n",
              "  concavity_worst concave_points_worst symmetry_worst fractal_dimension_worst\n",
              "1 0.7119          0.2654               0.4601         0.11890                \n",
              "2 0.2416          0.1860               0.2750         0.08902                \n",
              "3 0.4504          0.2430               0.3613         0.08758                \n",
              "4 0.6869          0.2575               0.6638         0.17300                \n",
              "5 0.4000          0.1625               0.2364         0.07678                \n",
              "6 0.5355          0.1741               0.3985         0.12440                \n",
              "  radius_mean_target\n",
              "1 17.99             \n",
              "2 20.57             \n",
              "3 19.69             \n",
              "4 11.42             \n",
              "5 20.29             \n",
              "6 12.45             "
            ]
          },
          "metadata": {},
          "output_type": "display_data"
        },
        {
          "data": {
            "text/html": [
              "<table class=\"dataframe\">\n",
              "<caption>A tibble: 6 × 31</caption>\n",
              "<thead>\n",
              "\t<tr><th scope=col>diagnosis</th><th scope=col>texture_mean</th><th scope=col>perimeter_mean</th><th scope=col>area_mean</th><th scope=col>smoothness_mean</th><th scope=col>compactness_mean</th><th scope=col>concavity_mean</th><th scope=col>concave_points_mean</th><th scope=col>symmetry_mean</th><th scope=col>fractal_dimension_mean</th><th scope=col>⋯</th><th scope=col>texture_worst</th><th scope=col>perimeter_worst</th><th scope=col>area_worst</th><th scope=col>smoothness_worst</th><th scope=col>compactness_worst</th><th scope=col>concavity_worst</th><th scope=col>concave_points_worst</th><th scope=col>symmetry_worst</th><th scope=col>fractal_dimension_worst</th><th scope=col>radius_mean_target</th></tr>\n",
              "\t<tr><th scope=col>&lt;chr&gt;</th><th scope=col>&lt;dbl&gt;</th><th scope=col>&lt;dbl&gt;</th><th scope=col>&lt;dbl&gt;</th><th scope=col>&lt;dbl&gt;</th><th scope=col>&lt;dbl&gt;</th><th scope=col>&lt;dbl&gt;</th><th scope=col>&lt;dbl&gt;</th><th scope=col>&lt;dbl&gt;</th><th scope=col>&lt;dbl&gt;</th><th scope=col>⋯</th><th scope=col>&lt;dbl&gt;</th><th scope=col>&lt;dbl&gt;</th><th scope=col>&lt;dbl&gt;</th><th scope=col>&lt;dbl&gt;</th><th scope=col>&lt;dbl&gt;</th><th scope=col>&lt;dbl&gt;</th><th scope=col>&lt;dbl&gt;</th><th scope=col>&lt;dbl&gt;</th><th scope=col>&lt;dbl&gt;</th><th scope=col>&lt;dbl&gt;</th></tr>\n",
              "</thead>\n",
              "<tbody>\n",
              "\t<tr><td>M</td><td>10.38</td><td>122.80</td><td>1001.0</td><td>0.11840</td><td>0.27760</td><td>0.3001</td><td>0.14710</td><td>0.2419</td><td>0.07871</td><td>⋯</td><td>17.33</td><td>184.60</td><td>2019.0</td><td>0.1622</td><td>0.6656</td><td>0.7119</td><td>0.2654</td><td>0.4601</td><td>0.11890</td><td>17.99</td></tr>\n",
              "\t<tr><td>M</td><td>17.77</td><td>132.90</td><td>1326.0</td><td>0.08474</td><td>0.07864</td><td>0.0869</td><td>0.07017</td><td>0.1812</td><td>0.05667</td><td>⋯</td><td>23.41</td><td>158.80</td><td>1956.0</td><td>0.1238</td><td>0.1866</td><td>0.2416</td><td>0.1860</td><td>0.2750</td><td>0.08902</td><td>20.57</td></tr>\n",
              "\t<tr><td>M</td><td>21.25</td><td>130.00</td><td>1203.0</td><td>0.10960</td><td>0.15990</td><td>0.1974</td><td>0.12790</td><td>0.2069</td><td>0.05999</td><td>⋯</td><td>25.53</td><td>152.50</td><td>1709.0</td><td>0.1444</td><td>0.4245</td><td>0.4504</td><td>0.2430</td><td>0.3613</td><td>0.08758</td><td>19.69</td></tr>\n",
              "\t<tr><td>M</td><td>20.38</td><td> 77.58</td><td> 386.1</td><td>0.14250</td><td>0.28390</td><td>0.2414</td><td>0.10520</td><td>0.2597</td><td>0.09744</td><td>⋯</td><td>26.50</td><td> 98.87</td><td> 567.7</td><td>0.2098</td><td>0.8663</td><td>0.6869</td><td>0.2575</td><td>0.6638</td><td>0.17300</td><td>11.42</td></tr>\n",
              "\t<tr><td>M</td><td>14.34</td><td>135.10</td><td>1297.0</td><td>0.10030</td><td>0.13280</td><td>0.1980</td><td>0.10430</td><td>0.1809</td><td>0.05883</td><td>⋯</td><td>16.67</td><td>152.20</td><td>1575.0</td><td>0.1374</td><td>0.2050</td><td>0.4000</td><td>0.1625</td><td>0.2364</td><td>0.07678</td><td>20.29</td></tr>\n",
              "\t<tr><td>M</td><td>15.70</td><td> 82.57</td><td> 477.1</td><td>0.12780</td><td>0.17000</td><td>0.1578</td><td>0.08089</td><td>0.2087</td><td>0.07613</td><td>⋯</td><td>23.75</td><td>103.40</td><td> 741.6</td><td>0.1791</td><td>0.5249</td><td>0.5355</td><td>0.1741</td><td>0.3985</td><td>0.12440</td><td>12.45</td></tr>\n",
              "</tbody>\n",
              "</table>\n"
            ],
            "text/latex": [
              "A tibble: 6 × 31\n",
              "\\begin{tabular}{lllllllllllllllllllll}\n",
              " diagnosis & texture\\_mean & perimeter\\_mean & area\\_mean & smoothness\\_mean & compactness\\_mean & concavity\\_mean & concave\\_points\\_mean & symmetry\\_mean & fractal\\_dimension\\_mean & ⋯ & texture\\_worst & perimeter\\_worst & area\\_worst & smoothness\\_worst & compactness\\_worst & concavity\\_worst & concave\\_points\\_worst & symmetry\\_worst & fractal\\_dimension\\_worst & radius\\_mean\\_target\\\\\n",
              " <chr> & <dbl> & <dbl> & <dbl> & <dbl> & <dbl> & <dbl> & <dbl> & <dbl> & <dbl> & ⋯ & <dbl> & <dbl> & <dbl> & <dbl> & <dbl> & <dbl> & <dbl> & <dbl> & <dbl> & <dbl>\\\\\n",
              "\\hline\n",
              "\t M & 10.38 & 122.80 & 1001.0 & 0.11840 & 0.27760 & 0.3001 & 0.14710 & 0.2419 & 0.07871 & ⋯ & 17.33 & 184.60 & 2019.0 & 0.1622 & 0.6656 & 0.7119 & 0.2654 & 0.4601 & 0.11890 & 17.99\\\\\n",
              "\t M & 17.77 & 132.90 & 1326.0 & 0.08474 & 0.07864 & 0.0869 & 0.07017 & 0.1812 & 0.05667 & ⋯ & 23.41 & 158.80 & 1956.0 & 0.1238 & 0.1866 & 0.2416 & 0.1860 & 0.2750 & 0.08902 & 20.57\\\\\n",
              "\t M & 21.25 & 130.00 & 1203.0 & 0.10960 & 0.15990 & 0.1974 & 0.12790 & 0.2069 & 0.05999 & ⋯ & 25.53 & 152.50 & 1709.0 & 0.1444 & 0.4245 & 0.4504 & 0.2430 & 0.3613 & 0.08758 & 19.69\\\\\n",
              "\t M & 20.38 &  77.58 &  386.1 & 0.14250 & 0.28390 & 0.2414 & 0.10520 & 0.2597 & 0.09744 & ⋯ & 26.50 &  98.87 &  567.7 & 0.2098 & 0.8663 & 0.6869 & 0.2575 & 0.6638 & 0.17300 & 11.42\\\\\n",
              "\t M & 14.34 & 135.10 & 1297.0 & 0.10030 & 0.13280 & 0.1980 & 0.10430 & 0.1809 & 0.05883 & ⋯ & 16.67 & 152.20 & 1575.0 & 0.1374 & 0.2050 & 0.4000 & 0.1625 & 0.2364 & 0.07678 & 20.29\\\\\n",
              "\t M & 15.70 &  82.57 &  477.1 & 0.12780 & 0.17000 & 0.1578 & 0.08089 & 0.2087 & 0.07613 & ⋯ & 23.75 & 103.40 &  741.6 & 0.1791 & 0.5249 & 0.5355 & 0.1741 & 0.3985 & 0.12440 & 12.45\\\\\n",
              "\\end{tabular}\n"
            ],
            "text/markdown": [
              "\n",
              "A tibble: 6 × 31\n",
              "\n",
              "| diagnosis &lt;chr&gt; | texture_mean &lt;dbl&gt; | perimeter_mean &lt;dbl&gt; | area_mean &lt;dbl&gt; | smoothness_mean &lt;dbl&gt; | compactness_mean &lt;dbl&gt; | concavity_mean &lt;dbl&gt; | concave_points_mean &lt;dbl&gt; | symmetry_mean &lt;dbl&gt; | fractal_dimension_mean &lt;dbl&gt; | ⋯ ⋯ | texture_worst &lt;dbl&gt; | perimeter_worst &lt;dbl&gt; | area_worst &lt;dbl&gt; | smoothness_worst &lt;dbl&gt; | compactness_worst &lt;dbl&gt; | concavity_worst &lt;dbl&gt; | concave_points_worst &lt;dbl&gt; | symmetry_worst &lt;dbl&gt; | fractal_dimension_worst &lt;dbl&gt; | radius_mean_target &lt;dbl&gt; |\n",
              "|---|---|---|---|---|---|---|---|---|---|---|---|---|---|---|---|---|---|---|---|---|\n",
              "| M | 10.38 | 122.80 | 1001.0 | 0.11840 | 0.27760 | 0.3001 | 0.14710 | 0.2419 | 0.07871 | ⋯ | 17.33 | 184.60 | 2019.0 | 0.1622 | 0.6656 | 0.7119 | 0.2654 | 0.4601 | 0.11890 | 17.99 |\n",
              "| M | 17.77 | 132.90 | 1326.0 | 0.08474 | 0.07864 | 0.0869 | 0.07017 | 0.1812 | 0.05667 | ⋯ | 23.41 | 158.80 | 1956.0 | 0.1238 | 0.1866 | 0.2416 | 0.1860 | 0.2750 | 0.08902 | 20.57 |\n",
              "| M | 21.25 | 130.00 | 1203.0 | 0.10960 | 0.15990 | 0.1974 | 0.12790 | 0.2069 | 0.05999 | ⋯ | 25.53 | 152.50 | 1709.0 | 0.1444 | 0.4245 | 0.4504 | 0.2430 | 0.3613 | 0.08758 | 19.69 |\n",
              "| M | 20.38 |  77.58 |  386.1 | 0.14250 | 0.28390 | 0.2414 | 0.10520 | 0.2597 | 0.09744 | ⋯ | 26.50 |  98.87 |  567.7 | 0.2098 | 0.8663 | 0.6869 | 0.2575 | 0.6638 | 0.17300 | 11.42 |\n",
              "| M | 14.34 | 135.10 | 1297.0 | 0.10030 | 0.13280 | 0.1980 | 0.10430 | 0.1809 | 0.05883 | ⋯ | 16.67 | 152.20 | 1575.0 | 0.1374 | 0.2050 | 0.4000 | 0.1625 | 0.2364 | 0.07678 | 20.29 |\n",
              "| M | 15.70 |  82.57 |  477.1 | 0.12780 | 0.17000 | 0.1578 | 0.08089 | 0.2087 | 0.07613 | ⋯ | 23.75 | 103.40 |  741.6 | 0.1791 | 0.5249 | 0.5355 | 0.1741 | 0.3985 | 0.12440 | 12.45 |\n",
              "\n"
            ],
            "text/plain": [
              "  diagnosis texture_mean perimeter_mean area_mean smoothness_mean\n",
              "1 M         10.38        122.80         1001.0    0.11840        \n",
              "2 M         17.77        132.90         1326.0    0.08474        \n",
              "3 M         21.25        130.00         1203.0    0.10960        \n",
              "4 M         20.38         77.58          386.1    0.14250        \n",
              "5 M         14.34        135.10         1297.0    0.10030        \n",
              "6 M         15.70         82.57          477.1    0.12780        \n",
              "  compactness_mean concavity_mean concave_points_mean symmetry_mean\n",
              "1 0.27760          0.3001         0.14710             0.2419       \n",
              "2 0.07864          0.0869         0.07017             0.1812       \n",
              "3 0.15990          0.1974         0.12790             0.2069       \n",
              "4 0.28390          0.2414         0.10520             0.2597       \n",
              "5 0.13280          0.1980         0.10430             0.1809       \n",
              "6 0.17000          0.1578         0.08089             0.2087       \n",
              "  fractal_dimension_mean ⋯ texture_worst perimeter_worst area_worst\n",
              "1 0.07871                ⋯ 17.33         184.60          2019.0    \n",
              "2 0.05667                ⋯ 23.41         158.80          1956.0    \n",
              "3 0.05999                ⋯ 25.53         152.50          1709.0    \n",
              "4 0.09744                ⋯ 26.50          98.87           567.7    \n",
              "5 0.05883                ⋯ 16.67         152.20          1575.0    \n",
              "6 0.07613                ⋯ 23.75         103.40           741.6    \n",
              "  smoothness_worst compactness_worst concavity_worst concave_points_worst\n",
              "1 0.1622           0.6656            0.7119          0.2654              \n",
              "2 0.1238           0.1866            0.2416          0.1860              \n",
              "3 0.1444           0.4245            0.4504          0.2430              \n",
              "4 0.2098           0.8663            0.6869          0.2575              \n",
              "5 0.1374           0.2050            0.4000          0.1625              \n",
              "6 0.1791           0.5249            0.5355          0.1741              \n",
              "  symmetry_worst fractal_dimension_worst radius_mean_target\n",
              "1 0.4601         0.11890                 17.99             \n",
              "2 0.2750         0.08902                 20.57             \n",
              "3 0.3613         0.08758                 19.69             \n",
              "4 0.6638         0.17300                 11.42             \n",
              "5 0.2364         0.07678                 20.29             \n",
              "6 0.3985         0.12440                 12.45             "
            ]
          },
          "metadata": {},
          "output_type": "display_data"
        }
      ],
      "source": [
        "# Gán 'radius_mean' sang cột mới rồi xóa cột cũ\n",
        "df$radius_mean_target <- df$radius_mean\n",
        "df <- df[, !(names(df) %in% c(\"radius_mean\"))]\n",
        "\n",
        "# Xem dữ liệu sau khi thay đổi\n",
        "head(df)\n",
        "\n",
        "# Xóa cột 'id'\n",
        "df <- df[, !(names(df) %in% c(\"id\"))]\n",
        "\n",
        "head(df)"
      ]
    },
    {
      "cell_type": "code",
      "execution_count": 9,
      "metadata": {
        "colab": {
          "base_uri": "https://localhost:8080/",
          "height": 71
        },
        "id": "SM93TDa8Pljd",
        "outputId": "86dc99cb-6207-4315-90a8-d1fcb0b57861",
        "vscode": {
          "languageId": "r"
        }
      },
      "outputs": [
        {
          "data": {
            "text/plain": [
              "\n",
              "  0   1 \n",
              "357 212 "
            ]
          },
          "metadata": {},
          "output_type": "display_data"
        }
      ],
      "source": [
        "# Mã hóa 'diagnosis' (B = 0, M = 1)\n",
        "df$diagnosis <- as.integer(as.factor(df$diagnosis)) - 1  # tương đương LabelEncoder trong Python\n",
        "\n",
        "# Lưu model LabelEncoder (dùng RDS trong R thay cho joblib)\n",
        "saveRDS(df$diagnosis, \"label_encoder.rds\")\n",
        "\n",
        "# Thống kê giá trị\n",
        "table(df$diagnosis)\n"
      ]
    },
    {
      "cell_type": "code",
      "execution_count": 10,
      "metadata": {
        "colab": {
          "base_uri": "https://localhost:8080/",
          "height": 473
        },
        "id": "eMKaKiA9JjV6",
        "outputId": "e32d7628-6b0b-45ee-d321-6463f78bb556",
        "vscode": {
          "languageId": "r"
        }
      },
      "outputs": [
        {
          "name": "stderr",
          "output_type": "stream",
          "text": [
            "corrplot 0.95 loaded\n",
            "\n"
          ]
        },
        {
          "data": {
            "image/png": "[encoded data removed]",
            "text/plain": [
              "Plot with title \"Correlation Matrix\""
            ]
          },
          "metadata": {
            "image/png": {
              "height": 420,
              "width": 420
            }
          },
          "output_type": "display_data"
        }
      ],
      "source": [
        "# Ma trận tương quan\n",
        "corr_matrix <- cor(df)\n",
        "library(corrplot)\n",
        "\n",
        "# Vẽ heatmap\n",
        "corrplot::corrplot(corr_matrix, method = \"color\", tl.cex = 0.6, number.cex = 0.5,\n",
        "                   col=colorRampPalette(c(\"blue\", \"white\", \"red\"))(200),\n",
        "                   title = \"Correlation Matrix\", mar = c(0,0,1,0), order = \"hclust\")\n"
      ]
    },
    {
      "cell_type": "code",
      "execution_count": null,
      "metadata": {
        "id": "l1nZQ8cfJnIv",
        "vscode": {
          "languageId": "r"
        }
      },
      "outputs": [],
      "source": [
        "# Lựa chọn các đặc trưng\n",
        "# selected_features <- c(\"perimeter_mean\", \"area_mean\", \"concavity_mean\",\n",
        "#   \"concave_points_mean\", \"radius_se\", \"perimeter_se\",\n",
        "#   \"area_se\", \"radius_worst\", \"perimeter_worst\",\n",
        "#   \"area_worst\", \"concave_points_worst\"\n",
        "# )\n",
        "\n",
        "selected_features <- c(\n",
        "  \"perimeter_mean\", \"compactness_mean\", \"area_mean\", \"concavity_mean\",\n",
        "   \"concavity_se\", \"perimeter_se\",  \"radius_worst\"\n",
        ")\n",
        "\n",
        "features <- df[, selected_features]\n",
        "target <- df$radius_mean_target"
      ]
    },
    {
      "cell_type": "code",
      "execution_count": 12,
      "metadata": {
        "colab": {
          "base_uri": "https://localhost:8080/"
        },
        "id": "R0rTuakUP1U5",
        "outputId": "552336fc-242d-444a-cad0-137d3df19f13",
        "vscode": {
          "languageId": "r"
        }
      },
      "outputs": [
        {
          "name": "stdout",
          "output_type": "stream",
          "text": [
            "Features shape: 569 rows, 7 columns\n",
            "Target shape: 569 rows\n"
          ]
        }
      ],
      "source": [
        "cat(sprintf(\"Features shape: %d rows, %d columns\\n\", nrow(features), ncol(features)))\n",
        "cat(sprintf(\"Target shape: %d rows\\n\", length(target)))\n"
      ]
    },
    {
      "cell_type": "code",
      "execution_count": 13,
      "metadata": {
        "id": "uO6ujtHFJpq-",
        "vscode": {
          "languageId": "r"
        }
      },
      "outputs": [],
      "source": [
        "# Chia dữ liệu\n",
        "set.seed(42)\n",
        "train_indices <- createDataPartition(target, p = 0.8, list = FALSE)\n",
        "X_train <- features[train_indices, ]\n",
        "X_test  <- features[-train_indices, ]\n",
        "y_train <- target[train_indices]\n",
        "y_test  <- target[-train_indices]"
      ]
    },
    {
      "cell_type": "code",
      "execution_count": 14,
      "metadata": {
        "colab": {
          "base_uri": "https://localhost:8080/"
        },
        "id": "43gb6UkYP69w",
        "outputId": "20412811-d663-433a-876b-e330a4c44085",
        "vscode": {
          "languageId": "r"
        }
      },
      "outputs": [
        {
          "name": "stdout",
          "output_type": "stream",
          "text": [
            "X_train shape: (457, 7)\n",
            "X_test shape: (112, 7)\n"
          ]
        }
      ],
      "source": [
        "cat(sprintf(\"X_train shape: (%d, %d)\\n\", nrow(X_train), ncol(X_train)))\n",
        "cat(sprintf(\"X_test shape: (%d, %d)\\n\", nrow(X_test), ncol(X_test)))\n",
        "# cat(sprintf(\"y_train shape: %d\\n\", length(y_train)))\n",
        "# cat(sprintf(\"y_test shape: %d\\n\", length(y_test)))"
      ]
    },
    {
      "cell_type": "markdown",
      "metadata": {
        "id": "pivJnr0iSLgZ"
      },
      "source": [
        "# Linear Regrssion"
      ]
    },
    {
      "cell_type": "code",
      "execution_count": 15,
      "metadata": {
        "colab": {
          "base_uri": "https://localhost:8080/"
        },
        "id": "NL2Eve-mJs8T",
        "outputId": "55a2f9c3-5964-462d-b931-4747d097a978",
        "vscode": {
          "languageId": "r"
        }
      },
      "outputs": [
        {
          "name": "stdout",
          "output_type": "stream",
          "text": [
            "        1         2         3         4         5         6         7         8 \n",
            "18.334842 13.637448 13.542243 13.125577 16.806167 14.602135 16.957740 11.758114 \n",
            "        9        10        11        12        13        14        15        16 \n",
            "10.082988 11.317881  9.029355 12.030002 12.187547 10.515611 17.670569 18.510810 \n",
            "       17        18        19        20        21        22        23        24 \n",
            "11.233678 10.791983 14.963348 13.178729 17.616150 11.684978 12.335454 23.243360 \n",
            "       25        26        27        28        29        30        31        32 \n",
            "11.036886  8.719766 13.007925 15.253600 14.924943 12.227992 23.580959 13.804770 \n",
            "       33        34        35        36        37        38        39        40 \n",
            "10.263684 10.181323 14.334261 13.993989 11.253862 20.900420 15.773811 17.255812 \n",
            "       41        42        43        44        45        46        47        48 \n",
            "17.420571 17.218736 20.880587 13.520931 22.073805  9.779109 19.304867 12.965783 \n",
            "       49        50        51        52        53        54        55        56 \n",
            "12.905667 11.320286 11.874549 12.714574 10.929526 14.284585 10.478415 12.406426 \n",
            "       57        58        59        60        61        62        63        64 \n",
            "13.037395 14.569189 12.219667 12.845039 12.216847 14.725669 11.475881 11.677052 \n",
            "       65        66        67        68        69        70        71        72 \n",
            "12.572964 12.566888 20.467247 10.515141 15.472911 12.907957 12.298893 15.108600 \n",
            "       73        74        75        76        77        78        79        80 \n",
            "15.560886 12.663774 11.166866 13.699004 10.481066 20.168192 18.779472 12.861043 \n",
            "       81        82        83        84        85        86        87        88 \n",
            "13.785955 10.587116 17.815999 14.836674 14.575568 11.852721 19.492283 27.825065 \n",
            "       89        90        91        92        93        94        95        96 \n",
            "13.321163 17.741266 12.017636 14.223374 16.352519 13.618844 14.654641 11.703140 \n",
            "       97        98        99       100       101       102       103       104 \n",
            "16.636681 18.447026 20.707976 13.875601 23.145324  9.453586 16.239348 13.404582 \n",
            "      105       106       107       108       109       110       111       112 \n",
            "13.702013 10.994339 11.605055 14.713118 13.235254 10.354788 10.294782 11.198920 \n"
          ]
        }
      ],
      "source": [
        "# -----------------------\n",
        "# 1. Linear Regression\n",
        "# -----------------------\n",
        "linear_reg <- lm(y_train ~ ., data = X_train)\n",
        "\n",
        "# Dự đoán\n",
        "y_pred_linear <- predict(linear_reg, newdata = X_test)\n",
        "\n",
        "# In kết quả dự đoán\n",
        "print(y_pred_linear)\n"
      ]
    },
    {
      "cell_type": "code",
      "execution_count": 16,
      "metadata": {
        "colab": {
          "base_uri": "https://localhost:8080/"
        },
        "id": "Xjtll_drRme2",
        "outputId": "25fac7c9-c819-492c-9c77-bc2a2aef0dde",
        "vscode": {
          "languageId": "r"
        }
      },
      "outputs": [
        {
          "name": "stdout",
          "output_type": "stream",
          "text": [
            "Mean Squared Error: 0.007230\n",
            "Mean Absolute Error: 0.054144\n",
            "Root Mean Squared Error: 0.085027\n",
            "R-squared: 0.999414\n"
          ]
        }
      ],
      "source": [
        "# Đánh giá mô hình\n",
        "mse_linear <- mean((y_test - y_pred_linear)^2)\n",
        "mae_linear <- mean(abs(y_test - y_pred_linear))\n",
        "rmse_linear <- sqrt(mse_linear)\n",
        "r2_score_linear <- R2_Score(y_pred_linear, y_test)\n",
        "\n",
        "cat(sprintf(\"Mean Squared Error: %f\\n\", mse_linear))\n",
        "cat(sprintf(\"Mean Absolute Error: %f\\n\", mae_linear))\n",
        "cat(sprintf(\"Root Mean Squared Error: %f\\n\", rmse_linear))\n",
        "cat(sprintf(\"R-squared: %f\\n\", r2_score_linear))\n"
      ]
    },
    {
      "cell_type": "code",
      "execution_count": 17,
      "metadata": {
        "id": "JPIzjeVrRuwb",
        "vscode": {
          "languageId": "r"
        }
      },
      "outputs": [],
      "source": [
        "linear_model <- lm(y_train ~ ., data = X_train)\n",
        "saveRDS(linear_model, \"linear_regression_model.rds\")\n"
      ]
    },
    {
      "cell_type": "code",
      "execution_count": 18,
      "metadata": {
        "colab": {
          "base_uri": "https://localhost:8080/",
          "height": 437
        },
        "id": "EhChE8WvRxTV",
        "outputId": "fb898a9b-d317-4008-cd8f-a16ddfb59db8",
        "vscode": {
          "languageId": "r"
        }
      },
      "outputs": [
        {
          "data": {
            "image/png": "[encoded data removed]",
            "text/plain": [
              "plot without title"
            ]
          },
          "metadata": {
            "image/png": {
              "height": 420,
              "width": 420
            }
          },
          "output_type": "display_data"
        }
      ],
      "source": [
        "# Boxplot So Sánh Giữa 2 Loại Diagnosis\n",
        "# Cài theme\n",
        "theme_set(theme_minimal())\n",
        "\n",
        "# Vẽ boxplot\n",
        "ggplot(df, aes(x = as.factor(diagnosis), y = radius_mean_target, fill = as.factor(diagnosis))) +\n",
        "  geom_boxplot() +\n",
        "  scale_fill_manual(values = c(\"#66C2A5\", \"#FC8D62\")) +\n",
        "  labs(title = \"So sánh radius_mean giữa M (Malignant) và B (Benign)\",\n",
        "       x = \"Diagnosis\", y = \"Radius Mean\") +\n",
        "  theme(legend.position = \"none\")\n"
      ]
    },
    {
      "cell_type": "code",
      "execution_count": 19,
      "metadata": {
        "colab": {
          "base_uri": "https://localhost:8080/",
          "height": 437
        },
        "id": "mv-dDoeOR3iU",
        "outputId": "85c6f1df-b5b4-4828-8ee6-e6f7e2714f16",
        "vscode": {
          "languageId": "r"
        }
      },
      "outputs": [
        {
          "data": {
            "image/png": "[encoded data removed]",
            "text/plain": [
              "Plot with title \"Actual vs Predicted Values (Linear Regression)\""
            ]
          },
          "metadata": {
            "image/png": {
              "height": 420,
              "width": 420
            }
          },
          "output_type": "display_data"
        }
      ],
      "source": [
        "# Scatter plot thực tế vs dự đoán\n",
        "plot(y_test, y_pred_linear, col = \"blue\", pch = 16,\n",
        "     xlab = \"Actual Values\", ylab = \"Predicted Values\",\n",
        "     main = \"Actual vs Predicted Values (Linear Regression)\")\n",
        "points(y_test, y_test, col = \"red\", pch = 1)\n",
        "legend(\"topleft\", legend = c(\"Predicted\", \"Actual\"),\n",
        "       col = c(\"blue\", \"red\"), pch = c(16, 1))\n"
      ]
    },
    {
      "cell_type": "code",
      "execution_count": 20,
      "metadata": {
        "colab": {
          "base_uri": "https://localhost:8080/",
          "height": 437
        },
        "id": "DHlLqdO2R-4M",
        "outputId": "189afc19-f8fc-4065-ca6f-0a57c7c6ebcd",
        "vscode": {
          "languageId": "r"
        }
      },
      "outputs": [
        {
          "data": {
            "image/png": "[encoded data removed]",
            "text/plain": [
              "Plot with title \"Residuals Plot (Linear Regression)\""
            ]
          },
          "metadata": {
            "image/png": {
              "height": 420,
              "width": 420
            }
          },
          "output_type": "display_data"
        }
      ],
      "source": [
        "# Biểu đồ residual\n",
        "residuals_linear <- y_test - y_pred_linear\n",
        "\n",
        "plot(y_pred_linear, residuals_linear, col = \"blue\", pch = 16,\n",
        "     xlab = \"Predicted Values\", ylab = \"Residuals\",\n",
        "     main = \"Residuals Plot (Linear Regression)\")\n",
        "abline(h = 0, col = \"red\", lty = 2)\n"
      ]
    },
    {
      "cell_type": "code",
      "execution_count": 21,
      "metadata": {
        "colab": {
          "base_uri": "https://localhost:8080/",
          "height": 600
        },
        "id": "E1f1ixFRSCQI",
        "outputId": "808cae5b-d320-4700-cd51-39a15fbc6ee2",
        "vscode": {
          "languageId": "r"
        }
      },
      "outputs": [
        {
          "name": "stderr",
          "output_type": "stream",
          "text": [
            "\n",
            "Attaching package: 'modelr'\n",
            "\n",
            "\n",
            "The following objects are masked from 'package:Metrics':\n",
            "\n",
            "    mae, mape, mse, rmse\n",
            "\n",
            "\n"
          ]
        },
        {
          "data": {
            "image/png": "[encoded data removed]",
            "text/plain": [
              "Plot with title \"Learning Curve (Linear Regression)\""
            ]
          },
          "metadata": {
            "image/png": {
              "height": 420,
              "width": 420
            }
          },
          "output_type": "display_data"
        }
      ],
      "source": [
        "# Learning Curve thủ công cho Linear Regression\n",
        "library(modelr)\n",
        "\n",
        "train_sizes <- seq(0.1, 1.0, length.out = 10)\n",
        "train_scores <- c()\n",
        "test_scores <- c()\n",
        "\n",
        "set.seed(42)\n",
        "for (size in train_sizes) {\n",
        "  idx <- sample(1:nrow(X_train), size = floor(size * nrow(X_train)))\n",
        "  X_partial <- X_train[idx, ]\n",
        "  y_partial <- y_train[idx]\n",
        "\n",
        "  model_partial <- lm(y_partial ~ ., data = X_partial)\n",
        "\n",
        "  # Đánh giá trên tập train\n",
        "  pred_train <- predict(model_partial, newdata = X_partial)\n",
        "  r2_train <- R2_Score(pred_train, y_partial)\n",
        "  train_scores <- c(train_scores, r2_train)\n",
        "\n",
        "  # Đánh giá trên tập test\n",
        "  pred_test <- predict(model_partial, newdata = X_test)\n",
        "  r2_test <- R2_Score(pred_test, y_test)\n",
        "  test_scores <- c(test_scores, r2_test)\n",
        "}\n",
        "\n",
        "# Vẽ Learning Curve\n",
        "plot(train_sizes * 100, train_scores, type = \"o\", col = \"blue\", pch = 16,\n",
        "     xlab = \"Training Size (%)\", ylab = \"R-squared\",\n",
        "     main = \"Learning Curve (Linear Regression)\",\n",
        "     ylim = range(c(train_scores, test_scores)))\n",
        "lines(train_sizes * 100, test_scores, type = \"o\", col = \"orange\", pch = 16)\n",
        "legend(\"bottomright\", legend = c(\"Training Score\", \"Cross-Validation Score\"),\n",
        "       col = c(\"blue\", \"orange\"), pch = 16)\n"
      ]
    },
    {
      "cell_type": "markdown",
      "metadata": {
        "id": "xkQCvBbjSPRu"
      },
      "source": [
        "# Random Forest"
      ]
    },
    {
      "cell_type": "code",
      "execution_count": 22,
      "metadata": {
        "colab": {
          "base_uri": "https://localhost:8080/"
        },
        "id": "vNjwbHuGJu5D",
        "outputId": "b513c6ce-bde2-435e-a8b4-be9adbc18774",
        "vscode": {
          "languageId": "r"
        }
      },
      "outputs": [
        {
          "name": "stderr",
          "output_type": "stream",
          "text": [
            "randomForest 4.7-1.2\n",
            "\n",
            "Type rfNews() to see new features/changes/bug fixes.\n",
            "\n",
            "\n",
            "Attaching package: 'randomForest'\n",
            "\n",
            "\n",
            "The following object is masked from 'package:dplyr':\n",
            "\n",
            "    combine\n",
            "\n",
            "\n",
            "The following object is masked from 'package:ggplot2':\n",
            "\n",
            "    margin\n",
            "\n",
            "\n"
          ]
        },
        {
          "name": "stdout",
          "output_type": "stream",
          "text": [
            "        1         2         3         4         5         6         7         8 \n",
            "18.335600 13.867142 13.608317 13.166478 17.589055 14.569193 17.295920 11.782955 \n",
            "        9        10        11        12        13        14        15        16 \n",
            " 9.977680 11.301755  9.180147 12.006907 12.205628 10.495791 17.742152 18.579562 \n",
            "       17        18        19        20        21        22        23        24 \n",
            "11.195787 10.861083 14.918777 13.175185 17.868168 11.718850 12.349043 22.336410 \n",
            "       25        26        27        28        29        30        31        32 \n",
            "10.797802  8.582544 12.912767 15.199163 14.908495 12.293330 22.923420 13.825047 \n",
            "       33        34        35        36        37        38        39        40 \n",
            "10.172262 10.132458 14.414267 13.934098 11.329693 20.890362 16.982642 17.239562 \n",
            "       41        42        43        44        45        46        47        48 \n",
            "17.497183 17.366675 21.598530 13.507387 21.871440  9.717301 19.257397 12.879693 \n",
            "       49        50        51        52        53        54        55        56 \n",
            "12.830697 11.182212 11.854568 12.658883 10.697388 14.221423 10.352752 12.412782 \n",
            "       57        58        59        60        61        62        63        64 \n",
            "13.075352 14.432255 12.171502 12.826067 12.218435 14.801987 11.428677 11.751362 \n",
            "       65        66        67        68        69        70        71        72 \n",
            "12.517957 12.570977 20.121188 10.462906 15.759190 12.866203 12.277870 14.913060 \n",
            "       73        74        75        76        77        78        79        80 \n",
            "16.525357 12.695617 11.158715 13.687853 10.633310 19.718070 18.717800 12.857467 \n",
            "       81        82        83        84        85        86        87        88 \n",
            "13.775733 10.376132 17.894523 14.880487 14.550727 11.800493 19.334910 26.345163 \n",
            "       89        90        91        92        93        94        95        96 \n",
            "13.293982 17.949063 12.010389 14.206483 16.369997 13.625770 14.722665 11.757910 \n",
            "       97        98        99       100       101       102       103       104 \n",
            "16.412373 18.537102 20.557015 14.046455 22.964688  9.664219 16.107748 13.614810 \n",
            "      105       106       107       108       109       110       111       112 \n",
            "13.703162 11.005960 11.645003 14.715762 13.177112 10.178305 10.154955 10.977995 \n"
          ]
        }
      ],
      "source": [
        "# -----------------------\n",
        "# 2. Random Forest\n",
        "# -----------------------\n",
        "library(randomForest)\n",
        "\n",
        "# Huấn luyện Random Forest\n",
        "rf_reg <- randomForest(x = X_train, y = y_train, ntree = 100, random_state = 42)\n",
        "\n",
        "# Dự đoán\n",
        "y_pred_rf <- predict(rf_reg, X_test)\n",
        "\n",
        "# Hiển thị kết quả dự đoán\n",
        "print(y_pred_rf)\n"
      ]
    },
    {
      "cell_type": "code",
      "execution_count": 23,
      "metadata": {
        "colab": {
          "base_uri": "https://localhost:8080/"
        },
        "id": "5HkVtP2uSbmc",
        "outputId": "c536b364-9121-45b5-b4fa-f1155d33cada",
        "vscode": {
          "languageId": "r"
        }
      },
      "outputs": [
        {
          "name": "stdout",
          "output_type": "stream",
          "text": [
            "Mean Squared Error: 0.074865\n",
            "Mean Absolute Error: 0.148331\n",
            "Root Mean Squared Error: 0.273614\n",
            "R-squared: 0.993931\n"
          ]
        }
      ],
      "source": [
        "mse_rf <- mean((y_test - y_pred_rf)^2)\n",
        "mae_rf <- mean(abs(y_test - y_pred_rf))\n",
        "rmse_rf <- sqrt(mse_rf)\n",
        "r2_rf <- R2_Score(y_pred_rf, y_test)\n",
        "\n",
        "cat(sprintf(\"Mean Squared Error: %f\\n\", mse_rf))\n",
        "cat(sprintf(\"Mean Absolute Error: %f\\n\", mae_rf))\n",
        "cat(sprintf(\"Root Mean Squared Error: %f\\n\", rmse_rf))\n",
        "cat(sprintf(\"R-squared: %f\\n\", r2_rf))\n"
      ]
    },
    {
      "cell_type": "code",
      "execution_count": 24,
      "metadata": {
        "id": "vO-irLtwSdWY",
        "vscode": {
          "languageId": "r"
        }
      },
      "outputs": [],
      "source": [
        "saveRDS(rf_reg, \"random_forest_model.rds\")\n"
      ]
    },
    {
      "cell_type": "code",
      "execution_count": 25,
      "metadata": {
        "colab": {
          "base_uri": "https://localhost:8080/",
          "height": 437
        },
        "id": "Nh4nHNybSfvW",
        "outputId": "5b480c6a-0719-452e-edf7-08232ba09fd5",
        "vscode": {
          "languageId": "r"
        }
      },
      "outputs": [
        {
          "data": {
            "image/png": "[encoded data removed]",
            "text/plain": [
              "Plot with title \"Actual vs Predicted Values (Random Forest)\""
            ]
          },
          "metadata": {
            "image/png": {
              "height": 420,
              "width": 420
            }
          },
          "output_type": "display_data"
        }
      ],
      "source": [
        "# Scatter plot dự đoán với thực tế\n",
        "plot(y_test, y_pred_rf, col = \"blue\", pch = 16,\n",
        "     xlab = \"Actual Values\", ylab = \"Predicted Values\",\n",
        "     main = \"Actual vs Predicted Values (Random Forest)\")\n",
        "points(y_test, y_test, col = \"red\", pch = 1)\n",
        "legend(\"topleft\", legend = c(\"Predicted\", \"Actual\"), col = c(\"blue\", \"red\"), pch = c(16, 1))\n"
      ]
    },
    {
      "cell_type": "code",
      "execution_count": 26,
      "metadata": {
        "colab": {
          "base_uri": "https://localhost:8080/",
          "height": 437
        },
        "id": "AsRoSWETSn2N",
        "outputId": "8e39aec9-be56-4595-b6c7-1585caee0a78",
        "vscode": {
          "languageId": "r"
        }
      },
      "outputs": [
        {
          "data": {
            "image/png": "[encoded data removed]",
            "text/plain": [
              "Plot with title \"Residuals Plot (Random Forest)\""
            ]
          },
          "metadata": {
            "image/png": {
              "height": 420,
              "width": 420
            }
          },
          "output_type": "display_data"
        }
      ],
      "source": [
        "# Residual plot\n",
        "residuals_rf <- y_test - y_pred_rf\n",
        "plot(y_pred_rf, residuals_rf, col = \"blue\", pch = 16,\n",
        "     xlab = \"Predicted Values\", ylab = \"Residuals\",\n",
        "     main = \"Residuals Plot (Random Forest)\")\n",
        "abline(h = 0, col = \"red\", lty = 2)\n"
      ]
    },
    {
      "cell_type": "code",
      "execution_count": 27,
      "metadata": {
        "colab": {
          "base_uri": "https://localhost:8080/",
          "height": 437
        },
        "id": "JCMYBBFMSr1U",
        "outputId": "9f5d06c7-ebe3-4c06-ae39-abba2c185bac",
        "vscode": {
          "languageId": "r"
        }
      },
      "outputs": [
        {
          "data": {
            "image/png": "[encoded data removed]",
            "text/plain": [
              "Plot with title \"Learning Curve (Random Forest)\""
            ]
          },
          "metadata": {
            "image/png": {
              "height": 420,
              "width": 420
            }
          },
          "output_type": "display_data"
        }
      ],
      "source": [
        "train_scores_rf <- c()\n",
        "test_scores_rf <- c()\n",
        "\n",
        "for (size in train_sizes) {\n",
        "  idx <- sample(1:nrow(X_train), size = floor(size * nrow(X_train)))\n",
        "  X_partial <- X_train[idx, ]\n",
        "  y_partial <- y_train[idx]\n",
        "\n",
        "  model_rf_partial <- randomForest(x = X_partial, y = y_partial, ntree = 100)\n",
        "\n",
        "  pred_train <- predict(model_rf_partial, X_partial)\n",
        "  r2_train <- R2_Score(pred_train, y_partial)\n",
        "  train_scores_rf <- c(train_scores_rf, r2_train)\n",
        "\n",
        "  pred_test <- predict(model_rf_partial, X_test)\n",
        "  r2_test <- R2_Score(pred_test, y_test)\n",
        "  test_scores_rf <- c(test_scores_rf, r2_test)\n",
        "}\n",
        "\n",
        "plot(train_sizes * 100, train_scores_rf, type = \"o\", col = \"blue\", pch = 16,\n",
        "     xlab = \"Training Size (%)\", ylab = \"R-squared\",\n",
        "     main = \"Learning Curve (Random Forest)\",\n",
        "     ylim = range(c(train_scores_rf, test_scores_rf)))\n",
        "lines(train_sizes * 100, test_scores_rf, type = \"o\", col = \"orange\", pch = 16)\n",
        "legend(\"bottomright\", legend = c(\"Training Score\", \"Cross-Validation Score\"),\n",
        "       col = c(\"blue\", \"orange\"), pch = 16)\n"
      ]
    },
    {
      "cell_type": "code",
      "execution_count": 28,
      "metadata": {
        "colab": {
          "base_uri": "https://localhost:8080/"
        },
        "id": "KoNAdUh4JzrD",
        "outputId": "995fdb83-edb7-4a66-c5c9-9148e50ed45a",
        "vscode": {
          "languageId": "r"
        }
      },
      "outputs": [
        {
          "name": "stderr",
          "output_type": "stream",
          "text": [
            "\n",
            "Attaching package: 'xgboost'\n",
            "\n",
            "\n",
            "The following object is masked from 'package:dplyr':\n",
            "\n",
            "    slice\n",
            "\n",
            "\n"
          ]
        },
        {
          "name": "stdout",
          "output_type": "stream",
          "text": [
            "  [1] 18.154671 13.779535 13.452924 13.189867 17.051123 14.371041 16.965864\n",
            "  [8] 11.738122  9.709340 11.379433  9.163949 11.909392 12.213607 10.548761\n",
            " [15] 17.937962 18.766069 11.080758 10.961034 15.103183 13.127625 17.805016\n",
            " [22] 11.791570 12.324390 23.199150 10.930667  8.712481 13.104645 15.137796\n",
            " [29] 14.835614 12.266919 23.536160 13.760839 10.464069 10.395176 14.383516\n",
            " [36] 13.964210 11.380389 20.738905 15.732773 17.106058 17.032442 17.296127\n",
            " [43] 21.048347 13.420625 22.286528  9.760017 19.163099 12.906447 12.737157\n",
            " [50] 11.446758 11.840896 12.692158 10.854646 14.382749 10.380916 12.360188\n",
            " [57] 13.044004 14.652537 12.215373 12.779655 12.179358 14.675922 11.446095\n",
            " [64] 11.621365 12.808943 12.632339 20.377546 10.366541 15.642887 12.817050\n",
            " [71] 12.313951 15.033935 16.017292 12.727839 11.043510 13.657408 10.594719\n",
            " [78] 20.305929 18.880255 12.805781 13.755176 10.394760 18.036186 14.888932\n",
            " [85] 14.643149 11.811239 19.309927 28.040283 13.409517 17.799454 12.113501\n",
            " [92] 14.008941 15.943676 13.620923 14.694390 11.766601 16.587797 18.684328\n",
            " [99] 20.567909 13.871627 23.248272  9.505291 16.126852 13.415328 13.582583\n",
            "[106] 10.867241 11.701909 14.712385 13.182066 10.407668 10.272655 11.377090\n"
          ]
        }
      ],
      "source": [
        "# -----------------------\n",
        "# 3. XGBoost\n",
        "# -----------------------\n",
        "library(xgboost)\n",
        "\n",
        "# # Huấn luyện Random Forest\n",
        "# rf_reg <- randomForest(x = X_train, y = y_train, ntree = 100, random_state = 42)\n",
        "\n",
        "# # Dự đoán\n",
        "# y_pred_rf <- predict(rf_reg, X_test)\n",
        "\n",
        "# # Hiển thị kết quả dự đoán\n",
        "# print(y_pred_rf)\n",
        "\n",
        "# Chuẩn bị dữ liệu cho xgboost\n",
        "dtrain <- xgb.DMatrix(data = as.matrix(X_train), label = y_train)\n",
        "dtest <- xgb.DMatrix(data = as.matrix(X_test))\n",
        "\n",
        "# Huấn luyện mô hình\n",
        "XGB_reg <- xgboost(data = dtrain, nrounds = 100, objective = \"reg:squarederror\", verbose = 0)\n",
        "\n",
        "# Dự đoán\n",
        "y_pred_xgb <- predict(XGB_reg, dtest)\n",
        "\n",
        "# Hiển thị dự đoán\n",
        "print(y_pred_xgb)\n"
      ]
    },
    {
      "cell_type": "code",
      "execution_count": 29,
      "metadata": {
        "colab": {
          "base_uri": "https://localhost:8080/"
        },
        "id": "nukK2AouJ2O3",
        "outputId": "4363236d-bb09-4ec6-e745-3dd64fe90ad2",
        "vscode": {
          "languageId": "r"
        }
      },
      "outputs": [
        {
          "name": "stdout",
          "output_type": "stream",
          "text": [
            "Mean Squared Error: 0.028248\n",
            "Mean Absolute Error: 0.124044\n",
            "Root Mean Squared Error: 0.168072\n",
            "R-squared: 0.997710\n"
          ]
        }
      ],
      "source": [
        "mse_xgb <- mean((y_test - y_pred_xgb)^2)\n",
        "mae_xgb <- mean(abs(y_test - y_pred_xgb))\n",
        "rmse_xgb <- sqrt(mse_xgb)\n",
        "r2_xgb <- R2_Score(y_pred_xgb, y_test)\n",
        "\n",
        "cat(sprintf(\"Mean Squared Error: %f\\n\", mse_xgb))\n",
        "cat(sprintf(\"Mean Absolute Error: %f\\n\", mae_xgb))\n",
        "cat(sprintf(\"Root Mean Squared Error: %f\\n\", rmse_xgb))\n",
        "cat(sprintf(\"R-squared: %f\\n\", r2_xgb))\n"
      ]
    },
    {
      "cell_type": "code",
      "execution_count": 30,
      "metadata": {
        "colab": {
          "base_uri": "https://localhost:8080/",
          "height": 34
        },
        "id": "qZITlzLsS5Kk",
        "outputId": "ab029b72-3b72-4533-e5d9-41fa021a204a",
        "vscode": {
          "languageId": "r"
        }
      },
      "outputs": [
        {
          "data": {
            "text/html": [
              "TRUE"
            ],
            "text/latex": [
              "TRUE"
            ],
            "text/markdown": [
              "TRUE"
            ],
            "text/plain": [
              "[1] TRUE"
            ]
          },
          "metadata": {},
          "output_type": "display_data"
        }
      ],
      "source": [
        "xgb.save(XGB_reg, \"xgboost_model.model\")\n"
      ]
    },
    {
      "cell_type": "code",
      "execution_count": 31,
      "metadata": {
        "colab": {
          "base_uri": "https://localhost:8080/",
          "height": 437
        },
        "id": "JOUZBkOkS60R",
        "outputId": "25725f42-be4e-41b2-cb5d-2ff0b62f9c5c",
        "vscode": {
          "languageId": "r"
        }
      },
      "outputs": [
        {
          "data": {
            "image/png": "[encoded data removed]",
            "text/plain": [
              "Plot with title \"Actual vs Predicted Values (XGBoost)\""
            ]
          },
          "metadata": {
            "image/png": {
              "height": 420,
              "width": 420
            }
          },
          "output_type": "display_data"
        }
      ],
      "source": [
        "# Scatter plot dự đoán và thực tế\n",
        "plot(y_test, y_pred_xgb, col = \"blue\", pch = 16,\n",
        "     xlab = \"Actual Values\", ylab = \"Predicted Values\",\n",
        "     main = \"Actual vs Predicted Values (XGBoost)\")\n",
        "points(y_test, y_test, col = \"red\", pch = 1)\n",
        "legend(\"topleft\", legend = c(\"Predicted\", \"Actual\"), col = c(\"blue\", \"red\"), pch = c(16, 1))\n"
      ]
    },
    {
      "cell_type": "code",
      "execution_count": 32,
      "metadata": {
        "colab": {
          "base_uri": "https://localhost:8080/",
          "height": 437
        },
        "id": "z3e3MKTeTAK1",
        "outputId": "5c3d971b-e734-496e-e0b7-f7fd1678f7c7",
        "vscode": {
          "languageId": "r"
        }
      },
      "outputs": [
        {
          "data": {
            "image/png": "[encoded data removed]",
            "text/plain": [
              "Plot with title \"Residuals Plot (XGBoost)\""
            ]
          },
          "metadata": {
            "image/png": {
              "height": 420,
              "width": 420
            }
          },
          "output_type": "display_data"
        }
      ],
      "source": [
        "# Residual plot\n",
        "residuals_xgb <- y_test - y_pred_xgb\n",
        "plot(y_pred_xgb, residuals_xgb, col = \"blue\", pch = 16,\n",
        "     xlab = \"Predicted Values\", ylab = \"Residuals\",\n",
        "     main = \"Residuals Plot (XGBoost)\")\n",
        "abline(h = 0, col = \"red\", lty = 2)\n"
      ]
    },
    {
      "cell_type": "code",
      "execution_count": 33,
      "metadata": {
        "colab": {
          "base_uri": "https://localhost:8080/",
          "height": 437
        },
        "id": "-q1-r5ULTElp",
        "outputId": "f5e7d3f4-52e2-4e08-e738-0ee6b7e32e51",
        "vscode": {
          "languageId": "r"
        }
      },
      "outputs": [
        {
          "data": {
            "image/png": "[encoded data removed]",
            "text/plain": [
              "Plot with title \"Learning Curve (XGBoost)\""
            ]
          },
          "metadata": {
            "image/png": {
              "height": 420,
              "width": 420
            }
          },
          "output_type": "display_data"
        }
      ],
      "source": [
        "train_scores_xgb <- c()\n",
        "test_scores_xgb <- c()\n",
        "\n",
        "for (size in train_sizes) {\n",
        "  idx <- sample(1:nrow(X_train), size = floor(size * nrow(X_train)))\n",
        "  X_partial <- X_train[idx, ]\n",
        "  y_partial <- y_train[idx]\n",
        "\n",
        "  dpartial <- xgb.DMatrix(data = as.matrix(X_partial), label = y_partial)\n",
        "  model_xgb_partial <- xgboost(data = dpartial, nrounds = 100, objective = \"reg:squarederror\", verbose = 0)\n",
        "\n",
        "  r2_train <- R2_Score(predict(model_xgb_partial, dpartial), y_partial)\n",
        "  r2_test <- R2_Score(predict(model_xgb_partial, dtest), y_test)\n",
        "\n",
        "  train_scores_xgb <- c(train_scores_xgb, r2_train)\n",
        "  test_scores_xgb <- c(test_scores_xgb, r2_test)\n",
        "}\n",
        "\n",
        "plot(train_sizes * 100, train_scores_xgb, type = \"o\", col = \"blue\", pch = 16,\n",
        "     xlab = \"Training Size (%)\", ylab = \"R-squared\",\n",
        "     main = \"Learning Curve (XGBoost)\",\n",
        "     ylim = range(c(train_scores_xgb, test_scores_xgb)))\n",
        "lines(train_sizes * 100, test_scores_xgb, type = \"o\", col = \"orange\", pch = 16)\n",
        "legend(\"bottomright\", legend = c(\"Training Score\", \"Cross-Validation Score\"),\n",
        "       col = c(\"blue\", \"orange\"), pch = 16)\n"
      ]
    },
    {
      "cell_type": "code",
      "execution_count": 34,
      "metadata": {
        "colab": {
          "base_uri": "https://localhost:8080/"
        },
        "id": "HgfNz7xXTJw1",
        "outputId": "d89ea683-f2fa-4352-bb27-325827952b8b",
        "vscode": {
          "languageId": "r"
        }
      },
      "outputs": [
        {
          "name": "stdout",
          "output_type": "stream",
          "text": [
            "              Model         MSE        MAE       RMSE        R2\n",
            "1 Linear Regression 0.007229618 0.05414378 0.08502716 0.9994139\n",
            "2     Random Forest 0.074864603 0.14833147 0.27361397 0.9939309\n",
            "3           XGBoost 0.028248077 0.12404385 0.16807164 0.9977100\n"
          ]
        }
      ],
      "source": [
        "# Summary\n",
        "summary_df <- data.frame(\n",
        "  Model = c(\"Linear Regression\", \"Random Forest\", \"XGBoost\"),\n",
        "  MSE = c(mse_linear, mse_rf, mse_xgb),\n",
        "  MAE = c(mae_linear, mae_rf, mae_xgb),\n",
        "  RMSE = c(rmse_linear, rmse_rf, rmse_xgb),\n",
        "  R2 = c(r2_score_linear, r2_rf, r2_xgb)\n",
        ")\n",
        "print(summary_df)\n"
      ]
    }
  ],
  "metadata": {
    "colab": {
      "provenance": []
    },
    "kernelspec": {
      "display_name": "R",
      "language": "R",
      "name": "ir"
    },
    "language_info": {
      "codemirror_mode": "r",
      "file_extension": ".r",
      "mimetype": "text/x-r-source",
      "name": "R",
      "pygments_lexer": "r",
      "version": "4.5.0"
    }
  },
  "nbformat": 4,
  "nbformat_minor": 0
}
